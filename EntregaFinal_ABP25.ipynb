{
  "nbformat": 4,
  "nbformat_minor": 0,
  "metadata": {
    "colab": {
      "name": "EntregaFinal_ABP25.ipynb",
      "provenance": [],
      "collapsed_sections": [],
      "toc_visible": true
    },
    "kernelspec": {
      "name": "python3",
      "display_name": "Python 3"
    }
  },
  "cells": [
    {
      "cell_type": "markdown",
      "metadata": {
        "id": "msaGVu4WM-y-"
      },
      "source": [
        "\n",
        "## **SISTEMA DE RECOMENDACIÓN Y PREDICCIÓN DE PELÍCULAS POR CONTENIDO Y VALORACIONES DE USUARIO**\n",
        "\n",
        "GRUPO_25 | ABP2_Tenores\n",
        "\n",
        "Colmenares González, David Santiago\n",
        "\n",
        "Sabucedo González, Alberto Mateo\n",
        "\n",
        "Tenorio Costa, Juan\n",
        "\n",
        "\n",
        "---\n",
        "\n"
      ]
    },
    {
      "cell_type": "markdown",
      "metadata": {
        "id": "othY6b9mAnSK"
      },
      "source": [
        "# Introducción\r\n",
        "\r\n",
        "El proyecto está enfocado hacia la recomendación y valoración de películas dada la gran demanda que éstas tienen en la actualidad gracias a plataformas de ocio como Netflix, HBO o Prime Video, quienes ofrecen y recomiendan películas a sus usuarios.\r\n",
        "\r\n",
        "Se marcó como objetivo principal del proyecto la definición de una plataforma que fuese capaz de recomendar películas teniendo en cuenta las valoraciones que los usuarios pudieran hacer de éstas. Para cumplir con este objetivo, se desarrolló un sistema que permitiese recomendar en base a dos criterios distintos: el “análisis textual” y el “análisis de sentimientos”. La recomendación en base al análisis textual permite que el sistema recomiende películas teniendo en cuenta la similitud que éstas tienen entre sus sinopsis y género. Por otro lado, la recomendación en base al análisis de sentimientos, hace que el sistema sea capaz de recomendar teniendo en cuenta las valoraciones de las películas que los usuarios hayan ido realizando, ya sea mediante un comentario de texto o a través de una valoración positiva o negativa.\r\n",
        "\r\n"
      ]
    },
    {
      "cell_type": "markdown",
      "metadata": {
        "id": "qvxul4gUF3Io"
      },
      "source": [
        "#CRUDs asociados a datos"
      ]
    },
    {
      "cell_type": "markdown",
      "metadata": {
        "id": "lXaFDMTCb_5U"
      },
      "source": [
        "##Carga y filtrado de datos\n",
        "\n",
        "\n",
        "\n",
        "---\n",
        "\n",
        "Para el desarrollo del trabajo, se optó por hacer uso de un dataset extraído de internet (url: https://www.kaggle.com/shivamb/netflix-shows) llamado *netflix_titles.csv*, el cual contiene películas y series de televisión de la plataforma de streaming Netflix. \n",
        "\n",
        "Este archivo .csv lo incluimos dentro de la carpeta content para poder trabajar con él, cargándolo y guardándolo dentro de la variable originalData.\n",
        "\n"
      ]
    },
    {
      "cell_type": "code",
      "metadata": {
        "id": "xOTr35oYQREq",
        "colab": {
          "base_uri": "https://localhost:8080/",
          "height": 1000
        },
        "outputId": "06a526b9-14a4-47d0-924b-11918bc24f73"
      },
      "source": [
        "import pandas as pd\n",
        "\n",
        "originalData = pd.read_csv('/content/netflix_titles.csv')\n",
        "originalData.head(10)"
      ],
      "execution_count": null,
      "outputs": [
        {
          "output_type": "execute_result",
          "data": {
            "text/html": [
              "<div>\n",
              "<style scoped>\n",
              "    .dataframe tbody tr th:only-of-type {\n",
              "        vertical-align: middle;\n",
              "    }\n",
              "\n",
              "    .dataframe tbody tr th {\n",
              "        vertical-align: top;\n",
              "    }\n",
              "\n",
              "    .dataframe thead th {\n",
              "        text-align: right;\n",
              "    }\n",
              "</style>\n",
              "<table border=\"1\" class=\"dataframe\">\n",
              "  <thead>\n",
              "    <tr style=\"text-align: right;\">\n",
              "      <th></th>\n",
              "      <th>show_id</th>\n",
              "      <th>type</th>\n",
              "      <th>title</th>\n",
              "      <th>director</th>\n",
              "      <th>cast</th>\n",
              "      <th>country</th>\n",
              "      <th>date_added</th>\n",
              "      <th>release_year</th>\n",
              "      <th>rating</th>\n",
              "      <th>duration</th>\n",
              "      <th>listed_in</th>\n",
              "      <th>description</th>\n",
              "    </tr>\n",
              "  </thead>\n",
              "  <tbody>\n",
              "    <tr>\n",
              "      <th>0</th>\n",
              "      <td>81145628</td>\n",
              "      <td>Movie</td>\n",
              "      <td>Norm of the North: King Sized Adventure</td>\n",
              "      <td>Richard Finn, Tim Maltby</td>\n",
              "      <td>Alan Marriott, Andrew Toth, Brian Dobson, Cole...</td>\n",
              "      <td>United States, India, South Korea, China</td>\n",
              "      <td>September 9, 2019</td>\n",
              "      <td>2019</td>\n",
              "      <td>TV-PG</td>\n",
              "      <td>90 min</td>\n",
              "      <td>Children &amp; Family Movies, Comedies</td>\n",
              "      <td>Before planning an awesome wedding for his gra...</td>\n",
              "    </tr>\n",
              "    <tr>\n",
              "      <th>1</th>\n",
              "      <td>80117401</td>\n",
              "      <td>Movie</td>\n",
              "      <td>Jandino: Whatever it Takes</td>\n",
              "      <td>NaN</td>\n",
              "      <td>Jandino Asporaat</td>\n",
              "      <td>United Kingdom</td>\n",
              "      <td>September 9, 2016</td>\n",
              "      <td>2016</td>\n",
              "      <td>TV-MA</td>\n",
              "      <td>94 min</td>\n",
              "      <td>Stand-Up Comedy</td>\n",
              "      <td>Jandino Asporaat riffs on the challenges of ra...</td>\n",
              "    </tr>\n",
              "    <tr>\n",
              "      <th>2</th>\n",
              "      <td>70234439</td>\n",
              "      <td>TV Show</td>\n",
              "      <td>Transformers Prime</td>\n",
              "      <td>NaN</td>\n",
              "      <td>Peter Cullen, Sumalee Montano, Frank Welker, J...</td>\n",
              "      <td>United States</td>\n",
              "      <td>September 8, 2018</td>\n",
              "      <td>2013</td>\n",
              "      <td>TV-Y7-FV</td>\n",
              "      <td>1 Season</td>\n",
              "      <td>Kids' TV</td>\n",
              "      <td>With the help of three human allies, the Autob...</td>\n",
              "    </tr>\n",
              "    <tr>\n",
              "      <th>3</th>\n",
              "      <td>80058654</td>\n",
              "      <td>TV Show</td>\n",
              "      <td>Transformers: Robots in Disguise</td>\n",
              "      <td>NaN</td>\n",
              "      <td>Will Friedle, Darren Criss, Constance Zimmer, ...</td>\n",
              "      <td>United States</td>\n",
              "      <td>September 8, 2018</td>\n",
              "      <td>2016</td>\n",
              "      <td>TV-Y7</td>\n",
              "      <td>1 Season</td>\n",
              "      <td>Kids' TV</td>\n",
              "      <td>When a prison ship crash unleashes hundreds of...</td>\n",
              "    </tr>\n",
              "    <tr>\n",
              "      <th>4</th>\n",
              "      <td>80125979</td>\n",
              "      <td>Movie</td>\n",
              "      <td>#realityhigh</td>\n",
              "      <td>Fernando Lebrija</td>\n",
              "      <td>Nesta Cooper, Kate Walsh, John Michael Higgins...</td>\n",
              "      <td>United States</td>\n",
              "      <td>September 8, 2017</td>\n",
              "      <td>2017</td>\n",
              "      <td>TV-14</td>\n",
              "      <td>99 min</td>\n",
              "      <td>Comedies</td>\n",
              "      <td>When nerdy high schooler Dani finally attracts...</td>\n",
              "    </tr>\n",
              "    <tr>\n",
              "      <th>5</th>\n",
              "      <td>80163890</td>\n",
              "      <td>TV Show</td>\n",
              "      <td>Apaches</td>\n",
              "      <td>NaN</td>\n",
              "      <td>Alberto Ammann, Eloy Azorín, Verónica Echegui,...</td>\n",
              "      <td>Spain</td>\n",
              "      <td>September 8, 2017</td>\n",
              "      <td>2016</td>\n",
              "      <td>TV-MA</td>\n",
              "      <td>1 Season</td>\n",
              "      <td>Crime TV Shows, International TV Shows, Spanis...</td>\n",
              "      <td>A young journalist is forced into a life of cr...</td>\n",
              "    </tr>\n",
              "    <tr>\n",
              "      <th>6</th>\n",
              "      <td>70304989</td>\n",
              "      <td>Movie</td>\n",
              "      <td>Automata</td>\n",
              "      <td>Gabe Ibáñez</td>\n",
              "      <td>Antonio Banderas, Dylan McDermott, Melanie Gri...</td>\n",
              "      <td>Bulgaria, United States, Spain, Canada</td>\n",
              "      <td>September 8, 2017</td>\n",
              "      <td>2014</td>\n",
              "      <td>R</td>\n",
              "      <td>110 min</td>\n",
              "      <td>International Movies, Sci-Fi &amp; Fantasy, Thrillers</td>\n",
              "      <td>In a dystopian future, an insurance adjuster f...</td>\n",
              "    </tr>\n",
              "    <tr>\n",
              "      <th>7</th>\n",
              "      <td>80164077</td>\n",
              "      <td>Movie</td>\n",
              "      <td>Fabrizio Copano: Solo pienso en mi</td>\n",
              "      <td>Rodrigo Toro, Francisco Schultz</td>\n",
              "      <td>Fabrizio Copano</td>\n",
              "      <td>Chile</td>\n",
              "      <td>September 8, 2017</td>\n",
              "      <td>2017</td>\n",
              "      <td>TV-MA</td>\n",
              "      <td>60 min</td>\n",
              "      <td>Stand-Up Comedy</td>\n",
              "      <td>Fabrizio Copano takes audience participation t...</td>\n",
              "    </tr>\n",
              "    <tr>\n",
              "      <th>8</th>\n",
              "      <td>80117902</td>\n",
              "      <td>TV Show</td>\n",
              "      <td>Fire Chasers</td>\n",
              "      <td>NaN</td>\n",
              "      <td>NaN</td>\n",
              "      <td>United States</td>\n",
              "      <td>September 8, 2017</td>\n",
              "      <td>2017</td>\n",
              "      <td>TV-MA</td>\n",
              "      <td>1 Season</td>\n",
              "      <td>Docuseries, Science &amp; Nature TV</td>\n",
              "      <td>As California's 2016 fire season rages, brave ...</td>\n",
              "    </tr>\n",
              "    <tr>\n",
              "      <th>9</th>\n",
              "      <td>70304990</td>\n",
              "      <td>Movie</td>\n",
              "      <td>Good People</td>\n",
              "      <td>Henrik Ruben Genz</td>\n",
              "      <td>James Franco, Kate Hudson, Tom Wilkinson, Omar...</td>\n",
              "      <td>United States, United Kingdom, Denmark, Sweden</td>\n",
              "      <td>September 8, 2017</td>\n",
              "      <td>2014</td>\n",
              "      <td>R</td>\n",
              "      <td>90 min</td>\n",
              "      <td>Action &amp; Adventure, Thrillers</td>\n",
              "      <td>A struggling couple can't believe their luck w...</td>\n",
              "    </tr>\n",
              "  </tbody>\n",
              "</table>\n",
              "</div>"
            ],
            "text/plain": [
              "    show_id  ...                                        description\n",
              "0  81145628  ...  Before planning an awesome wedding for his gra...\n",
              "1  80117401  ...  Jandino Asporaat riffs on the challenges of ra...\n",
              "2  70234439  ...  With the help of three human allies, the Autob...\n",
              "3  80058654  ...  When a prison ship crash unleashes hundreds of...\n",
              "4  80125979  ...  When nerdy high schooler Dani finally attracts...\n",
              "5  80163890  ...  A young journalist is forced into a life of cr...\n",
              "6  70304989  ...  In a dystopian future, an insurance adjuster f...\n",
              "7  80164077  ...  Fabrizio Copano takes audience participation t...\n",
              "8  80117902  ...  As California's 2016 fire season rages, brave ...\n",
              "9  70304990  ...  A struggling couple can't believe their luck w...\n",
              "\n",
              "[10 rows x 12 columns]"
            ]
          },
          "metadata": {
            "tags": []
          },
          "execution_count": 95
        }
      ]
    },
    {
      "cell_type": "markdown",
      "metadata": {
        "id": "M920Jl5wtqzj"
      },
      "source": [
        "\n",
        "Dado que el proyecto está enfocado únicamente a la recomendación de películas y el dataset contiene tanto películas como series de televisión, se debe realizar un filtrado sobre éste. Para ello, nos quedamos con aquellas filas que tengan como valor 'Movie' en la columna 'type'."
      ]
    },
    {
      "cell_type": "code",
      "metadata": {
        "id": "51wKDnK3Ubd6",
        "colab": {
          "base_uri": "https://localhost:8080/",
          "height": 1000
        },
        "outputId": "99669fe3-bf3b-439c-f94d-1f904a78c588"
      },
      "source": [
        "filteredMovies = (originalData[\"type\"] == \"Movie\")\n",
        "dataMovies = originalData[filteredMovies]\n",
        "dataMovies.reset_index().head(10)"
      ],
      "execution_count": null,
      "outputs": [
        {
          "output_type": "execute_result",
          "data": {
            "text/html": [
              "<div>\n",
              "<style scoped>\n",
              "    .dataframe tbody tr th:only-of-type {\n",
              "        vertical-align: middle;\n",
              "    }\n",
              "\n",
              "    .dataframe tbody tr th {\n",
              "        vertical-align: top;\n",
              "    }\n",
              "\n",
              "    .dataframe thead th {\n",
              "        text-align: right;\n",
              "    }\n",
              "</style>\n",
              "<table border=\"1\" class=\"dataframe\">\n",
              "  <thead>\n",
              "    <tr style=\"text-align: right;\">\n",
              "      <th></th>\n",
              "      <th>index</th>\n",
              "      <th>show_id</th>\n",
              "      <th>type</th>\n",
              "      <th>title</th>\n",
              "      <th>director</th>\n",
              "      <th>cast</th>\n",
              "      <th>country</th>\n",
              "      <th>date_added</th>\n",
              "      <th>release_year</th>\n",
              "      <th>rating</th>\n",
              "      <th>duration</th>\n",
              "      <th>listed_in</th>\n",
              "      <th>description</th>\n",
              "    </tr>\n",
              "  </thead>\n",
              "  <tbody>\n",
              "    <tr>\n",
              "      <th>0</th>\n",
              "      <td>0</td>\n",
              "      <td>81145628</td>\n",
              "      <td>Movie</td>\n",
              "      <td>Norm of the North: King Sized Adventure</td>\n",
              "      <td>Richard Finn, Tim Maltby</td>\n",
              "      <td>Alan Marriott, Andrew Toth, Brian Dobson, Cole...</td>\n",
              "      <td>United States, India, South Korea, China</td>\n",
              "      <td>September 9, 2019</td>\n",
              "      <td>2019</td>\n",
              "      <td>TV-PG</td>\n",
              "      <td>90 min</td>\n",
              "      <td>Children &amp; Family Movies, Comedies</td>\n",
              "      <td>Before planning an awesome wedding for his gra...</td>\n",
              "    </tr>\n",
              "    <tr>\n",
              "      <th>1</th>\n",
              "      <td>1</td>\n",
              "      <td>80117401</td>\n",
              "      <td>Movie</td>\n",
              "      <td>Jandino: Whatever it Takes</td>\n",
              "      <td>NaN</td>\n",
              "      <td>Jandino Asporaat</td>\n",
              "      <td>United Kingdom</td>\n",
              "      <td>September 9, 2016</td>\n",
              "      <td>2016</td>\n",
              "      <td>TV-MA</td>\n",
              "      <td>94 min</td>\n",
              "      <td>Stand-Up Comedy</td>\n",
              "      <td>Jandino Asporaat riffs on the challenges of ra...</td>\n",
              "    </tr>\n",
              "    <tr>\n",
              "      <th>2</th>\n",
              "      <td>4</td>\n",
              "      <td>80125979</td>\n",
              "      <td>Movie</td>\n",
              "      <td>#realityhigh</td>\n",
              "      <td>Fernando Lebrija</td>\n",
              "      <td>Nesta Cooper, Kate Walsh, John Michael Higgins...</td>\n",
              "      <td>United States</td>\n",
              "      <td>September 8, 2017</td>\n",
              "      <td>2017</td>\n",
              "      <td>TV-14</td>\n",
              "      <td>99 min</td>\n",
              "      <td>Comedies</td>\n",
              "      <td>When nerdy high schooler Dani finally attracts...</td>\n",
              "    </tr>\n",
              "    <tr>\n",
              "      <th>3</th>\n",
              "      <td>6</td>\n",
              "      <td>70304989</td>\n",
              "      <td>Movie</td>\n",
              "      <td>Automata</td>\n",
              "      <td>Gabe Ibáñez</td>\n",
              "      <td>Antonio Banderas, Dylan McDermott, Melanie Gri...</td>\n",
              "      <td>Bulgaria, United States, Spain, Canada</td>\n",
              "      <td>September 8, 2017</td>\n",
              "      <td>2014</td>\n",
              "      <td>R</td>\n",
              "      <td>110 min</td>\n",
              "      <td>International Movies, Sci-Fi &amp; Fantasy, Thrillers</td>\n",
              "      <td>In a dystopian future, an insurance adjuster f...</td>\n",
              "    </tr>\n",
              "    <tr>\n",
              "      <th>4</th>\n",
              "      <td>7</td>\n",
              "      <td>80164077</td>\n",
              "      <td>Movie</td>\n",
              "      <td>Fabrizio Copano: Solo pienso en mi</td>\n",
              "      <td>Rodrigo Toro, Francisco Schultz</td>\n",
              "      <td>Fabrizio Copano</td>\n",
              "      <td>Chile</td>\n",
              "      <td>September 8, 2017</td>\n",
              "      <td>2017</td>\n",
              "      <td>TV-MA</td>\n",
              "      <td>60 min</td>\n",
              "      <td>Stand-Up Comedy</td>\n",
              "      <td>Fabrizio Copano takes audience participation t...</td>\n",
              "    </tr>\n",
              "    <tr>\n",
              "      <th>5</th>\n",
              "      <td>9</td>\n",
              "      <td>70304990</td>\n",
              "      <td>Movie</td>\n",
              "      <td>Good People</td>\n",
              "      <td>Henrik Ruben Genz</td>\n",
              "      <td>James Franco, Kate Hudson, Tom Wilkinson, Omar...</td>\n",
              "      <td>United States, United Kingdom, Denmark, Sweden</td>\n",
              "      <td>September 8, 2017</td>\n",
              "      <td>2014</td>\n",
              "      <td>R</td>\n",
              "      <td>90 min</td>\n",
              "      <td>Action &amp; Adventure, Thrillers</td>\n",
              "      <td>A struggling couple can't believe their luck w...</td>\n",
              "    </tr>\n",
              "    <tr>\n",
              "      <th>6</th>\n",
              "      <td>10</td>\n",
              "      <td>80169755</td>\n",
              "      <td>Movie</td>\n",
              "      <td>Joaquín Reyes: Una y no más</td>\n",
              "      <td>José Miguel Contreras</td>\n",
              "      <td>Joaquín Reyes</td>\n",
              "      <td>NaN</td>\n",
              "      <td>September 8, 2017</td>\n",
              "      <td>2017</td>\n",
              "      <td>TV-MA</td>\n",
              "      <td>78 min</td>\n",
              "      <td>Stand-Up Comedy</td>\n",
              "      <td>Comedian and celebrity impersonator Joaquín Re...</td>\n",
              "    </tr>\n",
              "    <tr>\n",
              "      <th>7</th>\n",
              "      <td>11</td>\n",
              "      <td>70299204</td>\n",
              "      <td>Movie</td>\n",
              "      <td>Kidnapping Mr. Heineken</td>\n",
              "      <td>Daniel Alfredson</td>\n",
              "      <td>Jim Sturgess, Sam Worthington, Ryan Kwanten, A...</td>\n",
              "      <td>Netherlands, Belgium, United Kingdom, United S...</td>\n",
              "      <td>September 8, 2017</td>\n",
              "      <td>2015</td>\n",
              "      <td>R</td>\n",
              "      <td>95 min</td>\n",
              "      <td>Action &amp; Adventure, Dramas, International Movies</td>\n",
              "      <td>When beer magnate Alfred \"Freddy\" Heineken is ...</td>\n",
              "    </tr>\n",
              "    <tr>\n",
              "      <th>8</th>\n",
              "      <td>12</td>\n",
              "      <td>80182480</td>\n",
              "      <td>Movie</td>\n",
              "      <td>Krish Trish and Baltiboy</td>\n",
              "      <td>NaN</td>\n",
              "      <td>Damandeep Singh Baggan, Smita Malhotra, Baba S...</td>\n",
              "      <td>NaN</td>\n",
              "      <td>September 8, 2017</td>\n",
              "      <td>2009</td>\n",
              "      <td>TV-Y7</td>\n",
              "      <td>58 min</td>\n",
              "      <td>Children &amp; Family Movies</td>\n",
              "      <td>A team of minstrels, including a monkey, cat a...</td>\n",
              "    </tr>\n",
              "    <tr>\n",
              "      <th>9</th>\n",
              "      <td>13</td>\n",
              "      <td>80182483</td>\n",
              "      <td>Movie</td>\n",
              "      <td>Krish Trish and Baltiboy: Battle of Wits</td>\n",
              "      <td>Munjal Shroff, Tilak Shetty</td>\n",
              "      <td>Damandeep Singh Baggan, Smita Malhotra, Baba S...</td>\n",
              "      <td>NaN</td>\n",
              "      <td>September 8, 2017</td>\n",
              "      <td>2013</td>\n",
              "      <td>TV-Y7</td>\n",
              "      <td>62 min</td>\n",
              "      <td>Children &amp; Family Movies</td>\n",
              "      <td>An artisan is cheated of his payment, a lion o...</td>\n",
              "    </tr>\n",
              "  </tbody>\n",
              "</table>\n",
              "</div>"
            ],
            "text/plain": [
              "   index  ...                                        description\n",
              "0      0  ...  Before planning an awesome wedding for his gra...\n",
              "1      1  ...  Jandino Asporaat riffs on the challenges of ra...\n",
              "2      4  ...  When nerdy high schooler Dani finally attracts...\n",
              "3      6  ...  In a dystopian future, an insurance adjuster f...\n",
              "4      7  ...  Fabrizio Copano takes audience participation t...\n",
              "5      9  ...  A struggling couple can't believe their luck w...\n",
              "6     10  ...  Comedian and celebrity impersonator Joaquín Re...\n",
              "7     11  ...  When beer magnate Alfred \"Freddy\" Heineken is ...\n",
              "8     12  ...  A team of minstrels, including a monkey, cat a...\n",
              "9     13  ...  An artisan is cheated of his payment, a lion o...\n",
              "\n",
              "[10 rows x 13 columns]"
            ]
          },
          "metadata": {
            "tags": []
          },
          "execution_count": 96
        }
      ]
    },
    {
      "cell_type": "markdown",
      "metadata": {
        "id": "_BIa8JPluJwA"
      },
      "source": [
        "\n",
        "Por otra parte, se optó por trabajar únicamente con las columnas show_id(id de la película), title (título de la película), listed_in (géneros de la película) y description (descripción de la película). Para ello, se eliminaron todas las columnas que no fueran a ser utilizadas. Finalmente, se renombraron los índices de las filas para que se adaptasen al nuevo dataset *dataMovies*"
      ]
    },
    {
      "cell_type": "code",
      "metadata": {
        "id": "J1FD8uqwWJt_",
        "colab": {
          "base_uri": "https://localhost:8080/",
          "height": 343
        },
        "outputId": "41a80752-7f11-4add-97ad-b0d7ce0781df"
      },
      "source": [
        "dataMovies = dataMovies.drop(columns=['type','director','cast','country','date_added','release_year','rating','duration'])\n",
        "dataMovies = dataMovies.reset_index()\n",
        "dataMovies = dataMovies.drop(columns=['index'])\n",
        "dataMovies.head(10)"
      ],
      "execution_count": null,
      "outputs": [
        {
          "output_type": "execute_result",
          "data": {
            "text/html": [
              "<div>\n",
              "<style scoped>\n",
              "    .dataframe tbody tr th:only-of-type {\n",
              "        vertical-align: middle;\n",
              "    }\n",
              "\n",
              "    .dataframe tbody tr th {\n",
              "        vertical-align: top;\n",
              "    }\n",
              "\n",
              "    .dataframe thead th {\n",
              "        text-align: right;\n",
              "    }\n",
              "</style>\n",
              "<table border=\"1\" class=\"dataframe\">\n",
              "  <thead>\n",
              "    <tr style=\"text-align: right;\">\n",
              "      <th></th>\n",
              "      <th>show_id</th>\n",
              "      <th>title</th>\n",
              "      <th>listed_in</th>\n",
              "      <th>description</th>\n",
              "    </tr>\n",
              "  </thead>\n",
              "  <tbody>\n",
              "    <tr>\n",
              "      <th>0</th>\n",
              "      <td>81145628</td>\n",
              "      <td>Norm of the North: King Sized Adventure</td>\n",
              "      <td>Children &amp; Family Movies, Comedies</td>\n",
              "      <td>Before planning an awesome wedding for his gra...</td>\n",
              "    </tr>\n",
              "    <tr>\n",
              "      <th>1</th>\n",
              "      <td>80117401</td>\n",
              "      <td>Jandino: Whatever it Takes</td>\n",
              "      <td>Stand-Up Comedy</td>\n",
              "      <td>Jandino Asporaat riffs on the challenges of ra...</td>\n",
              "    </tr>\n",
              "    <tr>\n",
              "      <th>2</th>\n",
              "      <td>80125979</td>\n",
              "      <td>#realityhigh</td>\n",
              "      <td>Comedies</td>\n",
              "      <td>When nerdy high schooler Dani finally attracts...</td>\n",
              "    </tr>\n",
              "    <tr>\n",
              "      <th>3</th>\n",
              "      <td>70304989</td>\n",
              "      <td>Automata</td>\n",
              "      <td>International Movies, Sci-Fi &amp; Fantasy, Thrillers</td>\n",
              "      <td>In a dystopian future, an insurance adjuster f...</td>\n",
              "    </tr>\n",
              "    <tr>\n",
              "      <th>4</th>\n",
              "      <td>80164077</td>\n",
              "      <td>Fabrizio Copano: Solo pienso en mi</td>\n",
              "      <td>Stand-Up Comedy</td>\n",
              "      <td>Fabrizio Copano takes audience participation t...</td>\n",
              "    </tr>\n",
              "    <tr>\n",
              "      <th>5</th>\n",
              "      <td>70304990</td>\n",
              "      <td>Good People</td>\n",
              "      <td>Action &amp; Adventure, Thrillers</td>\n",
              "      <td>A struggling couple can't believe their luck w...</td>\n",
              "    </tr>\n",
              "    <tr>\n",
              "      <th>6</th>\n",
              "      <td>80169755</td>\n",
              "      <td>Joaquín Reyes: Una y no más</td>\n",
              "      <td>Stand-Up Comedy</td>\n",
              "      <td>Comedian and celebrity impersonator Joaquín Re...</td>\n",
              "    </tr>\n",
              "    <tr>\n",
              "      <th>7</th>\n",
              "      <td>70299204</td>\n",
              "      <td>Kidnapping Mr. Heineken</td>\n",
              "      <td>Action &amp; Adventure, Dramas, International Movies</td>\n",
              "      <td>When beer magnate Alfred \"Freddy\" Heineken is ...</td>\n",
              "    </tr>\n",
              "    <tr>\n",
              "      <th>8</th>\n",
              "      <td>80182480</td>\n",
              "      <td>Krish Trish and Baltiboy</td>\n",
              "      <td>Children &amp; Family Movies</td>\n",
              "      <td>A team of minstrels, including a monkey, cat a...</td>\n",
              "    </tr>\n",
              "    <tr>\n",
              "      <th>9</th>\n",
              "      <td>80182483</td>\n",
              "      <td>Krish Trish and Baltiboy: Battle of Wits</td>\n",
              "      <td>Children &amp; Family Movies</td>\n",
              "      <td>An artisan is cheated of his payment, a lion o...</td>\n",
              "    </tr>\n",
              "  </tbody>\n",
              "</table>\n",
              "</div>"
            ],
            "text/plain": [
              "    show_id  ...                                        description\n",
              "0  81145628  ...  Before planning an awesome wedding for his gra...\n",
              "1  80117401  ...  Jandino Asporaat riffs on the challenges of ra...\n",
              "2  80125979  ...  When nerdy high schooler Dani finally attracts...\n",
              "3  70304989  ...  In a dystopian future, an insurance adjuster f...\n",
              "4  80164077  ...  Fabrizio Copano takes audience participation t...\n",
              "5  70304990  ...  A struggling couple can't believe their luck w...\n",
              "6  80169755  ...  Comedian and celebrity impersonator Joaquín Re...\n",
              "7  70299204  ...  When beer magnate Alfred \"Freddy\" Heineken is ...\n",
              "8  80182480  ...  A team of minstrels, including a monkey, cat a...\n",
              "9  80182483  ...  An artisan is cheated of his payment, a lion o...\n",
              "\n",
              "[10 rows x 4 columns]"
            ]
          },
          "metadata": {
            "tags": []
          },
          "execution_count": 97
        }
      ]
    },
    {
      "cell_type": "markdown",
      "metadata": {
        "id": "dOBZsVvIu9fH"
      },
      "source": [
        "\n",
        "El dataset ya filtrado se guarda dentro de la carpeta sample_data como dataMovies.csv"
      ]
    },
    {
      "cell_type": "code",
      "metadata": {
        "id": "pED49hGRdnJB",
        "colab": {
          "base_uri": "https://localhost:8080/"
        },
        "outputId": "07c92e67-b068-4bb9-9754-8d9eb38c2c3b"
      },
      "source": [
        "dataMovies.to_csv('dataMovies.csv')\n",
        "print(dataMovies.head(10))"
      ],
      "execution_count": null,
      "outputs": [
        {
          "output_type": "stream",
          "text": [
            "    show_id  ...                                        description\n",
            "0  81145628  ...  Before planning an awesome wedding for his gra...\n",
            "1  80117401  ...  Jandino Asporaat riffs on the challenges of ra...\n",
            "2  80125979  ...  When nerdy high schooler Dani finally attracts...\n",
            "3  70304989  ...  In a dystopian future, an insurance adjuster f...\n",
            "4  80164077  ...  Fabrizio Copano takes audience participation t...\n",
            "5  70304990  ...  A struggling couple can't believe their luck w...\n",
            "6  80169755  ...  Comedian and celebrity impersonator Joaquín Re...\n",
            "7  70299204  ...  When beer magnate Alfred \"Freddy\" Heineken is ...\n",
            "8  80182480  ...  A team of minstrels, including a monkey, cat a...\n",
            "9  80182483  ...  An artisan is cheated of his payment, a lion o...\n",
            "\n",
            "[10 rows x 4 columns]\n"
          ],
          "name": "stdout"
        }
      ]
    },
    {
      "cell_type": "markdown",
      "metadata": {
        "id": "hKiFSUqWPBM0"
      },
      "source": [
        "\n",
        "\n",
        "---\n",
        "\n",
        "\n",
        "##Procesado mediante la descripción y género de las películas\n",
        "\n",
        "Para la recomendación de películas en base a las descripciones textuales, se ha optado por tener en cuenta tanto la descripción de las películas como el género de éstas. Para ello, se calculan dos matrices de distancias distintas. La matriz de distancias de la descripción textual guarda valores entre 0 y 1. La matriz de género, guarda distancias entre 0 y 0.125. \n",
        "Para el cálculo de distancias final se suman ambas matrices obteniendo así valores entre 0 y 1.125 para cada par posible de películas. A mayor es el valor, menor es la similitud entre las películas del par.\n",
        "\n",
        "Inicialmente, cargamos el archivo .csv que habíamos guardado previamente y lo guardamos dentro de la variable originalData. Todo este proceso se hace a través de la función LoadData().\n",
        "\n",
        "\n"
      ]
    },
    {
      "cell_type": "code",
      "metadata": {
        "id": "DA1mB3G-jVFD",
        "colab": {
          "base_uri": "https://localhost:8080/",
          "height": 343
        },
        "outputId": "2421e8ae-f73f-4042-878f-5ad262ee2fe9"
      },
      "source": [
        "import pandas as pd\n",
        "\n",
        "def LoadData():\n",
        "  originalData = pd.read_csv('/content/dataMovies.csv')\n",
        "  originalData = originalData.drop(columns=['Unnamed: 0'])\n",
        "  return originalData\n",
        "\n",
        "originalData = LoadData()\n",
        "originalData.head(10)"
      ],
      "execution_count": null,
      "outputs": [
        {
          "output_type": "execute_result",
          "data": {
            "text/html": [
              "<div>\n",
              "<style scoped>\n",
              "    .dataframe tbody tr th:only-of-type {\n",
              "        vertical-align: middle;\n",
              "    }\n",
              "\n",
              "    .dataframe tbody tr th {\n",
              "        vertical-align: top;\n",
              "    }\n",
              "\n",
              "    .dataframe thead th {\n",
              "        text-align: right;\n",
              "    }\n",
              "</style>\n",
              "<table border=\"1\" class=\"dataframe\">\n",
              "  <thead>\n",
              "    <tr style=\"text-align: right;\">\n",
              "      <th></th>\n",
              "      <th>show_id</th>\n",
              "      <th>title</th>\n",
              "      <th>listed_in</th>\n",
              "      <th>description</th>\n",
              "    </tr>\n",
              "  </thead>\n",
              "  <tbody>\n",
              "    <tr>\n",
              "      <th>0</th>\n",
              "      <td>81145628</td>\n",
              "      <td>Norm of the North: King Sized Adventure</td>\n",
              "      <td>Children &amp; Family Movies, Comedies</td>\n",
              "      <td>Before planning an awesome wedding for his gra...</td>\n",
              "    </tr>\n",
              "    <tr>\n",
              "      <th>1</th>\n",
              "      <td>80117401</td>\n",
              "      <td>Jandino: Whatever it Takes</td>\n",
              "      <td>Stand-Up Comedy</td>\n",
              "      <td>Jandino Asporaat riffs on the challenges of ra...</td>\n",
              "    </tr>\n",
              "    <tr>\n",
              "      <th>2</th>\n",
              "      <td>80125979</td>\n",
              "      <td>#realityhigh</td>\n",
              "      <td>Comedies</td>\n",
              "      <td>When nerdy high schooler Dani finally attracts...</td>\n",
              "    </tr>\n",
              "    <tr>\n",
              "      <th>3</th>\n",
              "      <td>70304989</td>\n",
              "      <td>Automata</td>\n",
              "      <td>International Movies, Sci-Fi &amp; Fantasy, Thrillers</td>\n",
              "      <td>In a dystopian future, an insurance adjuster f...</td>\n",
              "    </tr>\n",
              "    <tr>\n",
              "      <th>4</th>\n",
              "      <td>80164077</td>\n",
              "      <td>Fabrizio Copano: Solo pienso en mi</td>\n",
              "      <td>Stand-Up Comedy</td>\n",
              "      <td>Fabrizio Copano takes audience participation t...</td>\n",
              "    </tr>\n",
              "    <tr>\n",
              "      <th>5</th>\n",
              "      <td>70304990</td>\n",
              "      <td>Good People</td>\n",
              "      <td>Action &amp; Adventure, Thrillers</td>\n",
              "      <td>A struggling couple can't believe their luck w...</td>\n",
              "    </tr>\n",
              "    <tr>\n",
              "      <th>6</th>\n",
              "      <td>80169755</td>\n",
              "      <td>Joaquín Reyes: Una y no más</td>\n",
              "      <td>Stand-Up Comedy</td>\n",
              "      <td>Comedian and celebrity impersonator Joaquín Re...</td>\n",
              "    </tr>\n",
              "    <tr>\n",
              "      <th>7</th>\n",
              "      <td>70299204</td>\n",
              "      <td>Kidnapping Mr. Heineken</td>\n",
              "      <td>Action &amp; Adventure, Dramas, International Movies</td>\n",
              "      <td>When beer magnate Alfred \"Freddy\" Heineken is ...</td>\n",
              "    </tr>\n",
              "    <tr>\n",
              "      <th>8</th>\n",
              "      <td>80182480</td>\n",
              "      <td>Krish Trish and Baltiboy</td>\n",
              "      <td>Children &amp; Family Movies</td>\n",
              "      <td>A team of minstrels, including a monkey, cat a...</td>\n",
              "    </tr>\n",
              "    <tr>\n",
              "      <th>9</th>\n",
              "      <td>80182483</td>\n",
              "      <td>Krish Trish and Baltiboy: Battle of Wits</td>\n",
              "      <td>Children &amp; Family Movies</td>\n",
              "      <td>An artisan is cheated of his payment, a lion o...</td>\n",
              "    </tr>\n",
              "  </tbody>\n",
              "</table>\n",
              "</div>"
            ],
            "text/plain": [
              "    show_id  ...                                        description\n",
              "0  81145628  ...  Before planning an awesome wedding for his gra...\n",
              "1  80117401  ...  Jandino Asporaat riffs on the challenges of ra...\n",
              "2  80125979  ...  When nerdy high schooler Dani finally attracts...\n",
              "3  70304989  ...  In a dystopian future, an insurance adjuster f...\n",
              "4  80164077  ...  Fabrizio Copano takes audience participation t...\n",
              "5  70304990  ...  A struggling couple can't believe their luck w...\n",
              "6  80169755  ...  Comedian and celebrity impersonator Joaquín Re...\n",
              "7  70299204  ...  When beer magnate Alfred \"Freddy\" Heineken is ...\n",
              "8  80182480  ...  A team of minstrels, including a monkey, cat a...\n",
              "9  80182483  ...  An artisan is cheated of his payment, a lion o...\n",
              "\n",
              "[10 rows x 4 columns]"
            ]
          },
          "metadata": {
            "tags": []
          },
          "execution_count": 99
        }
      ]
    },
    {
      "cell_type": "markdown",
      "metadata": {
        "id": "_9_pjitBwAse"
      },
      "source": [
        "Se obtiene el dataset preprocessedData, que contiene una nueva columna llamada processed_text en la que se guardan las palabras más relevantes de la descripción para la creación de una bolsa de palabras. Todo este proceso está contenido dentro de la función ProcessedText()."
      ]
    },
    {
      "cell_type": "code",
      "metadata": {
        "id": "8bPv7j8fbyJh",
        "colab": {
          "base_uri": "https://localhost:8080/",
          "height": 578
        },
        "outputId": "f06d3a4a-00c0-4f67-89d7-5cd1c84a996c"
      },
      "source": [
        "from nltk.tokenize import word_tokenize \n",
        "from nltk.corpus import stopwords\n",
        "from nltk.stem import PorterStemmer\n",
        "\n",
        "import nltk\n",
        "nltk.download('punkt')\n",
        "nltk.download('stopwords')\n",
        "\n",
        "def ProcessedText():\n",
        "  ps = PorterStemmer()\n",
        "\n",
        "  preprocessedText = []\n",
        "\n",
        "  for row in originalData.itertuples():\n",
        "    text = word_tokenize(row[4]) ## indice de la columna que contiene el texto\n",
        "    ## Remove stop words\n",
        "    stops = set(stopwords.words(\"english\"))\n",
        "    text = [ps.stem(w) for w in text if not w in stops and w.isalnum()]\n",
        "    text = \" \".join(text)\n",
        "    preprocessedText.append(text)\n",
        "\n",
        "  preprocessedData = originalData\n",
        "  preprocessedData['processed_text'] = preprocessedText\n",
        "  return preprocessedData\n",
        "\n",
        "preprocessedData = ProcessedText()\n",
        "preprocessedData.head(10)"
      ],
      "execution_count": null,
      "outputs": [
        {
          "output_type": "stream",
          "text": [
            "[nltk_data] Downloading package punkt to /root/nltk_data...\n",
            "[nltk_data]   Package punkt is already up-to-date!\n",
            "[nltk_data] Downloading package stopwords to /root/nltk_data...\n",
            "[nltk_data]   Package stopwords is already up-to-date!\n"
          ],
          "name": "stdout"
        },
        {
          "output_type": "execute_result",
          "data": {
            "text/html": [
              "<div>\n",
              "<style scoped>\n",
              "    .dataframe tbody tr th:only-of-type {\n",
              "        vertical-align: middle;\n",
              "    }\n",
              "\n",
              "    .dataframe tbody tr th {\n",
              "        vertical-align: top;\n",
              "    }\n",
              "\n",
              "    .dataframe thead th {\n",
              "        text-align: right;\n",
              "    }\n",
              "</style>\n",
              "<table border=\"1\" class=\"dataframe\">\n",
              "  <thead>\n",
              "    <tr style=\"text-align: right;\">\n",
              "      <th></th>\n",
              "      <th>show_id</th>\n",
              "      <th>title</th>\n",
              "      <th>listed_in</th>\n",
              "      <th>description</th>\n",
              "      <th>processed_text</th>\n",
              "    </tr>\n",
              "  </thead>\n",
              "  <tbody>\n",
              "    <tr>\n",
              "      <th>0</th>\n",
              "      <td>81145628</td>\n",
              "      <td>Norm of the North: King Sized Adventure</td>\n",
              "      <td>Children &amp; Family Movies, Comedies</td>\n",
              "      <td>Before planning an awesome wedding for his gra...</td>\n",
              "      <td>befor plan awesom wed grandfath polar bear kin...</td>\n",
              "    </tr>\n",
              "    <tr>\n",
              "      <th>1</th>\n",
              "      <td>80117401</td>\n",
              "      <td>Jandino: Whatever it Takes</td>\n",
              "      <td>Stand-Up Comedy</td>\n",
              "      <td>Jandino Asporaat riffs on the challenges of ra...</td>\n",
              "      <td>jandino asporaat riff challeng rais kid serena...</td>\n",
              "    </tr>\n",
              "    <tr>\n",
              "      <th>2</th>\n",
              "      <td>80125979</td>\n",
              "      <td>#realityhigh</td>\n",
              "      <td>Comedies</td>\n",
              "      <td>When nerdy high schooler Dani finally attracts...</td>\n",
              "      <td>when nerdi high schooler dani final attract in...</td>\n",
              "    </tr>\n",
              "    <tr>\n",
              "      <th>3</th>\n",
              "      <td>70304989</td>\n",
              "      <td>Automata</td>\n",
              "      <td>International Movies, Sci-Fi &amp; Fantasy, Thrillers</td>\n",
              "      <td>In a dystopian future, an insurance adjuster f...</td>\n",
              "      <td>In dystopian futur insur adjust tech compani i...</td>\n",
              "    </tr>\n",
              "    <tr>\n",
              "      <th>4</th>\n",
              "      <td>80164077</td>\n",
              "      <td>Fabrizio Copano: Solo pienso en mi</td>\n",
              "      <td>Stand-Up Comedy</td>\n",
              "      <td>Fabrizio Copano takes audience participation t...</td>\n",
              "      <td>fabrizio copano take audienc particip next lev...</td>\n",
              "    </tr>\n",
              "    <tr>\n",
              "      <th>5</th>\n",
              "      <td>70304990</td>\n",
              "      <td>Good People</td>\n",
              "      <td>Action &amp; Adventure, Thrillers</td>\n",
              "      <td>A struggling couple can't believe their luck w...</td>\n",
              "      <td>A struggl coupl ca believ luck find stash mone...</td>\n",
              "    </tr>\n",
              "    <tr>\n",
              "      <th>6</th>\n",
              "      <td>80169755</td>\n",
              "      <td>Joaquín Reyes: Una y no más</td>\n",
              "      <td>Stand-Up Comedy</td>\n",
              "      <td>Comedian and celebrity impersonator Joaquín Re...</td>\n",
              "      <td>comedian celebr imperson joaquín rey decid zes...</td>\n",
              "    </tr>\n",
              "    <tr>\n",
              "      <th>7</th>\n",
              "      <td>70299204</td>\n",
              "      <td>Kidnapping Mr. Heineken</td>\n",
              "      <td>Action &amp; Adventure, Dramas, International Movies</td>\n",
              "      <td>When beer magnate Alfred \"Freddy\" Heineken is ...</td>\n",
              "      <td>when beer magnat alfr freddi heineken kidnap 1...</td>\n",
              "    </tr>\n",
              "    <tr>\n",
              "      <th>8</th>\n",
              "      <td>80182480</td>\n",
              "      <td>Krish Trish and Baltiboy</td>\n",
              "      <td>Children &amp; Family Movies</td>\n",
              "      <td>A team of minstrels, including a monkey, cat a...</td>\n",
              "      <td>A team minstrel includ monkey cat donkey narra...</td>\n",
              "    </tr>\n",
              "    <tr>\n",
              "      <th>9</th>\n",
              "      <td>80182483</td>\n",
              "      <td>Krish Trish and Baltiboy: Battle of Wits</td>\n",
              "      <td>Children &amp; Family Movies</td>\n",
              "      <td>An artisan is cheated of his payment, a lion o...</td>\n",
              "      <td>An artisan cheat payment lion throne brother i...</td>\n",
              "    </tr>\n",
              "  </tbody>\n",
              "</table>\n",
              "</div>"
            ],
            "text/plain": [
              "    show_id  ...                                     processed_text\n",
              "0  81145628  ...  befor plan awesom wed grandfath polar bear kin...\n",
              "1  80117401  ...  jandino asporaat riff challeng rais kid serena...\n",
              "2  80125979  ...  when nerdi high schooler dani final attract in...\n",
              "3  70304989  ...  In dystopian futur insur adjust tech compani i...\n",
              "4  80164077  ...  fabrizio copano take audienc particip next lev...\n",
              "5  70304990  ...  A struggl coupl ca believ luck find stash mone...\n",
              "6  80169755  ...  comedian celebr imperson joaquín rey decid zes...\n",
              "7  70299204  ...  when beer magnat alfr freddi heineken kidnap 1...\n",
              "8  80182480  ...  A team minstrel includ monkey cat donkey narra...\n",
              "9  80182483  ...  An artisan cheat payment lion throne brother i...\n",
              "\n",
              "[10 rows x 5 columns]"
            ]
          },
          "metadata": {
            "tags": []
          },
          "execution_count": 100
        }
      ]
    },
    {
      "cell_type": "markdown",
      "metadata": {
        "id": "a3OS02rlTgrt"
      },
      "source": [
        "A partir de preprocessedData y su campo processed_text se crea una 'prematriz'.\n",
        "Esta prematriz estará compuesta por textsBows que se crean haciendo uso de la librería. Estos textsBows almacenan la información de las frecuencias relativas de cada palabra. Todo este proceso se guarda dentro de la función TextsBow()."
      ]
    },
    {
      "cell_type": "code",
      "metadata": {
        "id": "_URBVtBymoAl",
        "colab": {
          "base_uri": "https://localhost:8080/"
        },
        "outputId": "48754be0-ac42-4740-897d-230042391dc8"
      },
      "source": [
        "from sklearn.feature_extraction.text import TfidfVectorizer\n",
        "\n",
        "def TextsBoW():\n",
        "  bagOfWordsModel = TfidfVectorizer()\n",
        "  bagOfWordsModel.fit(preprocessedData['processed_text'])\n",
        "  textsBoW= bagOfWordsModel.transform(preprocessedData['processed_text'])\n",
        "  return textsBoW\n",
        "\n",
        "textsBoW = TextsBoW()\n",
        "print(\"Finished\")"
      ],
      "execution_count": null,
      "outputs": [
        {
          "output_type": "stream",
          "text": [
            "Finished\n"
          ],
          "name": "stdout"
        }
      ]
    },
    {
      "cell_type": "code",
      "metadata": {
        "id": "cF5vsznXnGdc",
        "colab": {
          "base_uri": "https://localhost:8080/"
        },
        "outputId": "77a9578f-952c-4e82-de9d-caf1191f636e"
      },
      "source": [
        "print(textsBoW[10])"
      ],
      "execution_count": null,
      "outputs": [
        {
          "output_type": "stream",
          "text": [
            "  (0, 8420)\t0.1835787545856911\n",
            "  (0, 6973)\t0.28129166024763186\n",
            "  (0, 6827)\t0.3178209314072413\n",
            "  (0, 5890)\t0.3292897982928149\n",
            "  (0, 5734)\t0.26787770205547956\n",
            "  (0, 5589)\t0.28549201141576924\n",
            "  (0, 4274)\t0.22132941337485013\n",
            "  (0, 4273)\t0.20096460221097676\n",
            "  (0, 3393)\t0.23369419355147228\n",
            "  (0, 3283)\t0.3292897982928149\n",
            "  (0, 2516)\t0.29551102893678927\n",
            "  (0, 1468)\t0.2557032156227651\n",
            "  (0, 987)\t0.34545425828855103\n"
          ],
          "name": "stdout"
        }
      ]
    },
    {
      "cell_type": "markdown",
      "metadata": {
        "id": "aBlSvaV4Q5U4"
      },
      "source": [
        "\n",
        "Se calculan las distancias a través de un algoritmo. Se optó por hacer uso de la *Similitud Coseno* para obtener las distancias entre **vectores**. Como resultado del proceso se obtienen valores del 0 al 1, mayor es el valor, menor es la similitud.\n",
        "\n",
        "Todo este proceso se hace dentro de la función Distance()."
      ]
    },
    {
      "cell_type": "code",
      "metadata": {
        "id": "GaEjmRIwnVZD"
      },
      "source": [
        "from sklearn.metrics import pairwise_distances\n",
        "\n",
        "def Distance():\n",
        "  distance_matrix= pairwise_distances(textsBoW,textsBoW ,metric='cosine')\n",
        "  return distance_matrix\n",
        "\n",
        "distance_matrix = Distance()"
      ],
      "execution_count": null,
      "outputs": []
    },
    {
      "cell_type": "markdown",
      "metadata": {
        "id": "eXHPYMO3VoG1"
      },
      "source": [
        "\n",
        "Con la prematriz con las frecuencias relativas crearemos una matriz NxN, donde N es el número de películas.\n",
        "Cada celda devuelve la distancia entre las películas del par, indicadas por sus índices en la matriz, representada con un valor del 0 al 1."
      ]
    },
    {
      "cell_type": "code",
      "metadata": {
        "id": "ztJwFMmFndL2",
        "colab": {
          "base_uri": "https://localhost:8080/"
        },
        "outputId": "45a662ad-e2e1-40fa-b6ee-159b52141c40"
      },
      "source": [
        "print(distance_matrix.shape)\n",
        "print(type(distance_matrix))"
      ],
      "execution_count": null,
      "outputs": [
        {
          "output_type": "stream",
          "text": [
            "(4265, 4265)\n",
            "<class 'numpy.ndarray'>\n"
          ],
          "name": "stdout"
        }
      ]
    },
    {
      "cell_type": "markdown",
      "metadata": {
        "id": "iO3PVw5bmprk"
      },
      "source": [
        "Una vez calculadas las distancias en base a las descripciones de las películas, se deben calcular las distancias teniendo en cuenta el género.\n",
        "\n",
        "Se obtiene el dataset preprocessedData, que contiene una nueva columna llamada processed_genre en la que se guardan las palabras más relevantes del género para la creación de una bolsa de palabras. Todo este proceso está contenido dentro de la función ProcessedGenre()."
      ]
    },
    {
      "cell_type": "code",
      "metadata": {
        "id": "H4qQORxDlFab",
        "colab": {
          "base_uri": "https://localhost:8080/",
          "height": 578
        },
        "outputId": "09afcb5c-e15d-4f4b-f6a3-7ca016db95dd"
      },
      "source": [
        "from nltk.tokenize import word_tokenize \n",
        "from nltk.corpus import stopwords\n",
        "from nltk.stem import PorterStemmer\n",
        "\n",
        "import nltk\n",
        "nltk.download('punkt')\n",
        "nltk.download('stopwords')\n",
        "\n",
        "def ProcessedGenre():\n",
        "  ps = PorterStemmer()\n",
        "\n",
        "  preprocessedGenre = []\n",
        "\n",
        "  for row in originalData.itertuples():\n",
        "    text = word_tokenize(row[3]) ## indice de la columna que contiene el género\n",
        "    ## Remove stop words\n",
        "    stops = set(stopwords.words(\"english\"))\n",
        "    text = [ps.stem(w) for w in text if not w in stops and w.isalnum()]\n",
        "    text = \" \".join(text)\n",
        "    preprocessedGenre.append(text)\n",
        "\n",
        "  preprocessedData = originalData\n",
        "  preprocessedData['processed_genre'] = preprocessedGenre\n",
        "  return preprocessedData\n",
        "\n",
        "preprocessedData = ProcessedGenre()\n",
        "preprocessedData.head(10)"
      ],
      "execution_count": null,
      "outputs": [
        {
          "output_type": "stream",
          "text": [
            "[nltk_data] Downloading package punkt to /root/nltk_data...\n",
            "[nltk_data]   Package punkt is already up-to-date!\n",
            "[nltk_data] Downloading package stopwords to /root/nltk_data...\n",
            "[nltk_data]   Package stopwords is already up-to-date!\n"
          ],
          "name": "stdout"
        },
        {
          "output_type": "execute_result",
          "data": {
            "text/html": [
              "<div>\n",
              "<style scoped>\n",
              "    .dataframe tbody tr th:only-of-type {\n",
              "        vertical-align: middle;\n",
              "    }\n",
              "\n",
              "    .dataframe tbody tr th {\n",
              "        vertical-align: top;\n",
              "    }\n",
              "\n",
              "    .dataframe thead th {\n",
              "        text-align: right;\n",
              "    }\n",
              "</style>\n",
              "<table border=\"1\" class=\"dataframe\">\n",
              "  <thead>\n",
              "    <tr style=\"text-align: right;\">\n",
              "      <th></th>\n",
              "      <th>show_id</th>\n",
              "      <th>title</th>\n",
              "      <th>listed_in</th>\n",
              "      <th>description</th>\n",
              "      <th>processed_text</th>\n",
              "      <th>processed_genre</th>\n",
              "    </tr>\n",
              "  </thead>\n",
              "  <tbody>\n",
              "    <tr>\n",
              "      <th>0</th>\n",
              "      <td>81145628</td>\n",
              "      <td>Norm of the North: King Sized Adventure</td>\n",
              "      <td>Children &amp; Family Movies, Comedies</td>\n",
              "      <td>Before planning an awesome wedding for his gra...</td>\n",
              "      <td>befor plan awesom wed grandfath polar bear kin...</td>\n",
              "      <td>children famili movi comedi</td>\n",
              "    </tr>\n",
              "    <tr>\n",
              "      <th>1</th>\n",
              "      <td>80117401</td>\n",
              "      <td>Jandino: Whatever it Takes</td>\n",
              "      <td>Stand-Up Comedy</td>\n",
              "      <td>Jandino Asporaat riffs on the challenges of ra...</td>\n",
              "      <td>jandino asporaat riff challeng rais kid serena...</td>\n",
              "      <td>comedi</td>\n",
              "    </tr>\n",
              "    <tr>\n",
              "      <th>2</th>\n",
              "      <td>80125979</td>\n",
              "      <td>#realityhigh</td>\n",
              "      <td>Comedies</td>\n",
              "      <td>When nerdy high schooler Dani finally attracts...</td>\n",
              "      <td>when nerdi high schooler dani final attract in...</td>\n",
              "      <td>comedi</td>\n",
              "    </tr>\n",
              "    <tr>\n",
              "      <th>3</th>\n",
              "      <td>70304989</td>\n",
              "      <td>Automata</td>\n",
              "      <td>International Movies, Sci-Fi &amp; Fantasy, Thrillers</td>\n",
              "      <td>In a dystopian future, an insurance adjuster f...</td>\n",
              "      <td>In dystopian futur insur adjust tech compani i...</td>\n",
              "      <td>intern movi fantasi thriller</td>\n",
              "    </tr>\n",
              "    <tr>\n",
              "      <th>4</th>\n",
              "      <td>80164077</td>\n",
              "      <td>Fabrizio Copano: Solo pienso en mi</td>\n",
              "      <td>Stand-Up Comedy</td>\n",
              "      <td>Fabrizio Copano takes audience participation t...</td>\n",
              "      <td>fabrizio copano take audienc particip next lev...</td>\n",
              "      <td>comedi</td>\n",
              "    </tr>\n",
              "    <tr>\n",
              "      <th>5</th>\n",
              "      <td>70304990</td>\n",
              "      <td>Good People</td>\n",
              "      <td>Action &amp; Adventure, Thrillers</td>\n",
              "      <td>A struggling couple can't believe their luck w...</td>\n",
              "      <td>A struggl coupl ca believ luck find stash mone...</td>\n",
              "      <td>action adventur thriller</td>\n",
              "    </tr>\n",
              "    <tr>\n",
              "      <th>6</th>\n",
              "      <td>80169755</td>\n",
              "      <td>Joaquín Reyes: Una y no más</td>\n",
              "      <td>Stand-Up Comedy</td>\n",
              "      <td>Comedian and celebrity impersonator Joaquín Re...</td>\n",
              "      <td>comedian celebr imperson joaquín rey decid zes...</td>\n",
              "      <td>comedi</td>\n",
              "    </tr>\n",
              "    <tr>\n",
              "      <th>7</th>\n",
              "      <td>70299204</td>\n",
              "      <td>Kidnapping Mr. Heineken</td>\n",
              "      <td>Action &amp; Adventure, Dramas, International Movies</td>\n",
              "      <td>When beer magnate Alfred \"Freddy\" Heineken is ...</td>\n",
              "      <td>when beer magnat alfr freddi heineken kidnap 1...</td>\n",
              "      <td>action adventur drama intern movi</td>\n",
              "    </tr>\n",
              "    <tr>\n",
              "      <th>8</th>\n",
              "      <td>80182480</td>\n",
              "      <td>Krish Trish and Baltiboy</td>\n",
              "      <td>Children &amp; Family Movies</td>\n",
              "      <td>A team of minstrels, including a monkey, cat a...</td>\n",
              "      <td>A team minstrel includ monkey cat donkey narra...</td>\n",
              "      <td>children famili movi</td>\n",
              "    </tr>\n",
              "    <tr>\n",
              "      <th>9</th>\n",
              "      <td>80182483</td>\n",
              "      <td>Krish Trish and Baltiboy: Battle of Wits</td>\n",
              "      <td>Children &amp; Family Movies</td>\n",
              "      <td>An artisan is cheated of his payment, a lion o...</td>\n",
              "      <td>An artisan cheat payment lion throne brother i...</td>\n",
              "      <td>children famili movi</td>\n",
              "    </tr>\n",
              "  </tbody>\n",
              "</table>\n",
              "</div>"
            ],
            "text/plain": [
              "    show_id  ...                    processed_genre\n",
              "0  81145628  ...        children famili movi comedi\n",
              "1  80117401  ...                             comedi\n",
              "2  80125979  ...                             comedi\n",
              "3  70304989  ...       intern movi fantasi thriller\n",
              "4  80164077  ...                             comedi\n",
              "5  70304990  ...           action adventur thriller\n",
              "6  80169755  ...                             comedi\n",
              "7  70299204  ...  action adventur drama intern movi\n",
              "8  80182480  ...               children famili movi\n",
              "9  80182483  ...               children famili movi\n",
              "\n",
              "[10 rows x 6 columns]"
            ]
          },
          "metadata": {
            "tags": []
          },
          "execution_count": 105
        }
      ]
    },
    {
      "cell_type": "markdown",
      "metadata": {
        "id": "Wro7nGQb40zy"
      },
      "source": [
        "A partir de preprocessedData y su campo processed_genre se crea una 'prematriz'.\n",
        "Esta prematriz estará compuesta por textsBows que se crean haciendo uso de la librería. Estos textsBows almacenan la información de las frecuencias relativas de cada palabra. Todo este proceso se guarda dentro de la función TextsBowG()."
      ]
    },
    {
      "cell_type": "code",
      "metadata": {
        "id": "-nCAa5pglGil",
        "colab": {
          "base_uri": "https://localhost:8080/"
        },
        "outputId": "8718bee0-2911-48da-c878-151d39ec651d"
      },
      "source": [
        "from sklearn.feature_extraction.text import TfidfVectorizer\n",
        "\n",
        "def TextsBoWG():\n",
        "  bagOfWordsModel = TfidfVectorizer()\n",
        "  bagOfWordsModel.fit(preprocessedData['processed_genre'])\n",
        "  TextsBoWG= bagOfWordsModel.transform(preprocessedData['processed_genre'])\n",
        "  return TextsBoWG\n",
        "\n",
        "textsBoWG = TextsBoWG()\n",
        "print(\"Finished\")"
      ],
      "execution_count": null,
      "outputs": [
        {
          "output_type": "stream",
          "text": [
            "Finished\n"
          ],
          "name": "stdout"
        }
      ]
    },
    {
      "cell_type": "code",
      "metadata": {
        "id": "OKA-u820lP1g",
        "colab": {
          "base_uri": "https://localhost:8080/"
        },
        "outputId": "26f5207a-e277-411f-bffc-31f6c45415cf"
      },
      "source": [
        "print(textsBoWG[10])"
      ],
      "execution_count": null,
      "outputs": [
        {
          "output_type": "stream",
          "text": [
            "  (0, 17)\t0.2644716934023223\n",
            "  (0, 10)\t0.6819291471219383\n",
            "  (0, 3)\t0.6819291471219383\n"
          ],
          "name": "stdout"
        }
      ]
    },
    {
      "cell_type": "markdown",
      "metadata": {
        "id": "dVJW4CsT5Ni8"
      },
      "source": [
        "Se calculan las distancias a través de un algoritmo. Se optó por hacer uso de la *Similitud Coseno* para obtener las distancias entre **vectores**. Cabe destacar que las distancias se dividen entre 8 para que el género no tenga tanto peso como las descripciones de las películas. Todo este proceso se hace dentro de la función DistanceG()."
      ]
    },
    {
      "cell_type": "code",
      "metadata": {
        "id": "mRGj-B3GlJao"
      },
      "source": [
        "from sklearn.metrics import pairwise_distances\n",
        "\n",
        "def DistanceG():\n",
        "  distance_matrixG= pairwise_distances(textsBoWG,textsBoWG,metric='cosine')/8\n",
        "  return distance_matrixG\n",
        "\n",
        "distance_matrixG = DistanceG()"
      ],
      "execution_count": null,
      "outputs": []
    },
    {
      "cell_type": "markdown",
      "metadata": {
        "id": "GucjyM1z501o"
      },
      "source": [
        "Con la prematriz con las frecuencias relativas crearemos una matriz NxN, donde N es el número de películas.\n",
        "Cada celda devuelve la distancia entre los géneros de las películas del par representada con un valor del 0 al 0,125."
      ]
    },
    {
      "cell_type": "code",
      "metadata": {
        "id": "31wSo67_oL-I",
        "colab": {
          "base_uri": "https://localhost:8080/"
        },
        "outputId": "6bb33d90-7dea-484c-be5d-8c8cf3f81066"
      },
      "source": [
        "print(distance_matrixG.shape)\n",
        "print(type(distance_matrixG))"
      ],
      "execution_count": null,
      "outputs": [
        {
          "output_type": "stream",
          "text": [
            "(4265, 4265)\n",
            "<class 'numpy.ndarray'>\n"
          ],
          "name": "stdout"
        }
      ]
    },
    {
      "cell_type": "markdown",
      "metadata": {
        "id": "UGd26mvQ568q"
      },
      "source": [
        "Una vez calculadas las dos matrices de distancias, solo hace falta sumarlas entre sí para obtener una matriz de distancias final que tenga en cuenta tanto la descripción textual de las películas como el género de estas."
      ]
    },
    {
      "cell_type": "code",
      "metadata": {
        "id": "t3RlLg51pEsf",
        "colab": {
          "base_uri": "https://localhost:8080/"
        },
        "outputId": "e6adcf8d-ee2d-4cc0-8036-bc5791f281c5"
      },
      "source": [
        "def add(distance_matrix, distance_matrixG):\n",
        "    for i in range(distance_matrix.shape[0]):\n",
        "        for j in range(distance_matrix.shape[1]):\n",
        "            distance_matrix[i][j] = distance_matrix[i][j] + distance_matrixG[i][j]\n",
        "    return distance_matrix\n",
        "\n",
        "distance_matrixFinal = add(distance_matrix,distance_matrixG)\n",
        "print(distance_matrixFinal[0:11])"
      ],
      "execution_count": null,
      "outputs": [
        {
          "output_type": "stream",
          "text": [
            "[[0.         1.07638423 1.07638423 ... 1.11741137 1.125      1.09454381]\n",
            " [1.07638423 0.         1.         ... 1.125      1.125      1.125     ]\n",
            " [1.07638423 1.         0.         ... 1.125      1.125      1.125     ]\n",
            " ...\n",
            " [1.00984138 1.125      1.125      ... 1.11676285 1.125      1.09194104]\n",
            " [1.00984138 1.125      1.125      ... 1.11676285 1.125      1.09194104]\n",
            " [1.00984138 1.125      1.125      ... 1.11676285 1.125      1.09194104]]\n"
          ],
          "name": "stdout"
        }
      ]
    },
    {
      "cell_type": "markdown",
      "metadata": {
        "id": "wgiP__FEUhM_"
      },
      "source": [
        "\n",
        "\n",
        "---\n",
        "\n",
        "\n",
        "##Añadir película\n",
        "\n",
        "El añadido de una película se divide en tres partes. En la primera, se inserta la nueva película en el dataset de películas después de calcular su id con el hash. En la segunda, se vuelve a realizar el cálculo de distancias para que esta nueva película sea tenida en cuenta a la hora de recomendar. En la última, se almacena la nueva tabla generada con la película insertada.\n",
        "\n",
        "Ha de tenerse en cuenta que para que todo el código que viene a continuación funcione, deben haberse ejecutado todos los bloques de código del apartado **\"Procesado mediante la descripción y género de las películas\"** de la sección Gestión CRUD. Esto es debido a que en dicha sección se definen varias funciones que serán usadas en ésta."
      ]
    },
    {
      "cell_type": "markdown",
      "metadata": {
        "id": "loxnZ5W6WqKA"
      },
      "source": [
        "\n",
        "\n",
        "**1.Agregación de la Película al dataset**\n",
        "\n",
        "Primero de todo, debe cargarse el dataset que contiene todas las películas.\n",
        "\n"
      ]
    },
    {
      "cell_type": "code",
      "metadata": {
        "id": "F8TqY97sf07i",
        "colab": {
          "base_uri": "https://localhost:8080/",
          "height": 343
        },
        "outputId": "9e42d70b-d59b-4996-b66a-0e6d11222bfb"
      },
      "source": [
        "import pandas as pd\n",
        "\n",
        "originalData = LoadData()\n",
        "originalData.tail(10)"
      ],
      "execution_count": null,
      "outputs": [
        {
          "output_type": "execute_result",
          "data": {
            "text/html": [
              "<div>\n",
              "<style scoped>\n",
              "    .dataframe tbody tr th:only-of-type {\n",
              "        vertical-align: middle;\n",
              "    }\n",
              "\n",
              "    .dataframe tbody tr th {\n",
              "        vertical-align: top;\n",
              "    }\n",
              "\n",
              "    .dataframe thead th {\n",
              "        text-align: right;\n",
              "    }\n",
              "</style>\n",
              "<table border=\"1\" class=\"dataframe\">\n",
              "  <thead>\n",
              "    <tr style=\"text-align: right;\">\n",
              "      <th></th>\n",
              "      <th>show_id</th>\n",
              "      <th>title</th>\n",
              "      <th>listed_in</th>\n",
              "      <th>description</th>\n",
              "    </tr>\n",
              "  </thead>\n",
              "  <tbody>\n",
              "    <tr>\n",
              "      <th>4255</th>\n",
              "      <td>80100054</td>\n",
              "      <td>Skins</td>\n",
              "      <td>Dramas, International Movies</td>\n",
              "      <td>Deformed, disfigured characters must find a wa...</td>\n",
              "    </tr>\n",
              "    <tr>\n",
              "      <th>4256</th>\n",
              "      <td>80097468</td>\n",
              "      <td>The Bad Kids</td>\n",
              "      <td>Documentaries</td>\n",
              "      <td>In this documentary, teachers at a Mojave Dese...</td>\n",
              "    </tr>\n",
              "    <tr>\n",
              "      <th>4257</th>\n",
              "      <td>80171439</td>\n",
              "      <td>The Human Factor: The Untold Story of the Bomb...</td>\n",
              "      <td>Documentaries, International Movies, Music &amp; M...</td>\n",
              "      <td>A family of Parsi musicians collectively works...</td>\n",
              "    </tr>\n",
              "    <tr>\n",
              "      <th>4258</th>\n",
              "      <td>80104237</td>\n",
              "      <td>The Tenth Man</td>\n",
              "      <td>Dramas, International Movies</td>\n",
              "      <td>After spending much of his adult life in New Y...</td>\n",
              "    </tr>\n",
              "    <tr>\n",
              "      <th>4259</th>\n",
              "      <td>80093107</td>\n",
              "      <td>Toro</td>\n",
              "      <td>Dramas, International Movies, Thrillers</td>\n",
              "      <td>Ex-con Toro's brother and former partner in cr...</td>\n",
              "    </tr>\n",
              "    <tr>\n",
              "      <th>4260</th>\n",
              "      <td>80085438</td>\n",
              "      <td>Frank and Cindy</td>\n",
              "      <td>Documentaries</td>\n",
              "      <td>Frank was a rising pop star when he married Ci...</td>\n",
              "    </tr>\n",
              "    <tr>\n",
              "      <th>4261</th>\n",
              "      <td>80085439</td>\n",
              "      <td>Frank and Cindy</td>\n",
              "      <td>Comedies, Dramas, Independent Movies</td>\n",
              "      <td>A student filmmaker vengefully turns his camer...</td>\n",
              "    </tr>\n",
              "    <tr>\n",
              "      <th>4262</th>\n",
              "      <td>80011846</td>\n",
              "      <td>Iverson</td>\n",
              "      <td>Documentaries, Sports Movies</td>\n",
              "      <td>This unfiltered documentary follows the rocky ...</td>\n",
              "    </tr>\n",
              "    <tr>\n",
              "      <th>4263</th>\n",
              "      <td>80064521</td>\n",
              "      <td>Jeremy Scott: The People's Designer</td>\n",
              "      <td>Documentaries</td>\n",
              "      <td>The journey of fashion designer Jeremy Scott f...</td>\n",
              "    </tr>\n",
              "    <tr>\n",
              "      <th>4264</th>\n",
              "      <td>80116008</td>\n",
              "      <td>Little Baby Bum: Nursery Rhyme Friends</td>\n",
              "      <td>Movies</td>\n",
              "      <td>Nursery rhymes and original music for children...</td>\n",
              "    </tr>\n",
              "  </tbody>\n",
              "</table>\n",
              "</div>"
            ],
            "text/plain": [
              "       show_id  ...                                        description\n",
              "4255  80100054  ...  Deformed, disfigured characters must find a wa...\n",
              "4256  80097468  ...  In this documentary, teachers at a Mojave Dese...\n",
              "4257  80171439  ...  A family of Parsi musicians collectively works...\n",
              "4258  80104237  ...  After spending much of his adult life in New Y...\n",
              "4259  80093107  ...  Ex-con Toro's brother and former partner in cr...\n",
              "4260  80085438  ...  Frank was a rising pop star when he married Ci...\n",
              "4261  80085439  ...  A student filmmaker vengefully turns his camer...\n",
              "4262  80011846  ...  This unfiltered documentary follows the rocky ...\n",
              "4263  80064521  ...  The journey of fashion designer Jeremy Scott f...\n",
              "4264  80116008  ...  Nursery rhymes and original music for children...\n",
              "\n",
              "[10 rows x 4 columns]"
            ]
          },
          "metadata": {
            "tags": []
          },
          "execution_count": 111
        }
      ]
    },
    {
      "cell_type": "markdown",
      "metadata": {
        "id": "_yXmeXGkgdqc"
      },
      "source": [
        "Se calcula a través del título el hash de la película que servirá como identificador, en caso de colisiones se opta por sumar uno al id.\n",
        "Una vez calculado el hash y cargado el dataset, se añade la nueva fila y se comprueba que se haya agregado correctamente."
      ]
    },
    {
      "cell_type": "code",
      "metadata": {
        "id": "6UZBEnsTlsVt",
        "colab": {
          "base_uri": "https://localhost:8080/",
          "height": 77
        },
        "outputId": "3c7c7235-cefc-4976-9add-ba6e8b6006c5"
      },
      "source": [
        "codigo = hash('Alberto') % 100000000\n",
        "existe = False\n",
        "\n",
        "while existe == False:\n",
        "  if (originalData['show_id'] == codigo).any():\n",
        "    codigo = (codigo + 1) % 100000000\n",
        "  else:\n",
        "    existe = True\n",
        "\n",
        "originalData = originalData.append({'show_id' : codigo , 'title' : 'Alberto', 'listed_in' : 'Comedy', 'description' : 'This film is for testing'} , ignore_index=True)\n",
        "\n",
        "filtered = (originalData[\"show_id\"] == codigo)\n",
        "comprobacion = originalData[filtered]\n",
        "comprobacion"
      ],
      "execution_count": null,
      "outputs": [
        {
          "output_type": "execute_result",
          "data": {
            "text/html": [
              "<div>\n",
              "<style scoped>\n",
              "    .dataframe tbody tr th:only-of-type {\n",
              "        vertical-align: middle;\n",
              "    }\n",
              "\n",
              "    .dataframe tbody tr th {\n",
              "        vertical-align: top;\n",
              "    }\n",
              "\n",
              "    .dataframe thead th {\n",
              "        text-align: right;\n",
              "    }\n",
              "</style>\n",
              "<table border=\"1\" class=\"dataframe\">\n",
              "  <thead>\n",
              "    <tr style=\"text-align: right;\">\n",
              "      <th></th>\n",
              "      <th>show_id</th>\n",
              "      <th>title</th>\n",
              "      <th>listed_in</th>\n",
              "      <th>description</th>\n",
              "    </tr>\n",
              "  </thead>\n",
              "  <tbody>\n",
              "    <tr>\n",
              "      <th>4265</th>\n",
              "      <td>61924216</td>\n",
              "      <td>Alberto</td>\n",
              "      <td>Comedy</td>\n",
              "      <td>This film is for testing</td>\n",
              "    </tr>\n",
              "  </tbody>\n",
              "</table>\n",
              "</div>"
            ],
            "text/plain": [
              "       show_id    title listed_in               description\n",
              "4265  61924216  Alberto    Comedy  This film is for testing"
            ]
          },
          "metadata": {
            "tags": []
          },
          "execution_count": 112
        }
      ]
    },
    {
      "cell_type": "markdown",
      "metadata": {
        "id": "fnuKv5Jpe1K_"
      },
      "source": [
        "**2.Cálculo de distancias**\n",
        "\n",
        "\n",
        "Ahora se debe actualizar la bolsa de palabras y realizar nuevamente el cálculo de distancias para que se tenga en cuenta la nueva película insertada.\n"
      ]
    },
    {
      "cell_type": "code",
      "metadata": {
        "id": "EyKre67gezyr",
        "colab": {
          "base_uri": "https://localhost:8080/"
        },
        "outputId": "4fbf5283-2cfd-4ae1-ca7a-a2cd9ac405df"
      },
      "source": [
        "preprocessedData = ProcessedText()\n",
        "textsBoW = TextsBoW()\n",
        "distance_matrix = Distance()\n",
        "\n",
        "preprocessedData = ProcessedGenre()\n",
        "textsBoWG = TextsBoWG()\n",
        "distance_matrixG = DistanceG()\n",
        "\n",
        "distance_matrixFinal = add(distance_matrix,distance_matrixG)\n",
        "\n",
        "print(distance_matrixFinal.shape)\n",
        "print(type(distance_matrixFinal))"
      ],
      "execution_count": null,
      "outputs": [
        {
          "output_type": "stream",
          "text": [
            "(4266, 4266)\n",
            "<class 'numpy.ndarray'>\n"
          ],
          "name": "stdout"
        }
      ]
    },
    {
      "cell_type": "markdown",
      "metadata": {
        "id": "AQEl0Gzfgo6e"
      },
      "source": [
        "\n",
        "A continuación, se incluye un ejemplo de cómo el sistema es capaz de recomendar películas semejantes a la nueva película agregada."
      ]
    },
    {
      "cell_type": "code",
      "metadata": {
        "id": "Cp3YvzuThPtO",
        "colab": {
          "base_uri": "https://localhost:8080/"
        },
        "outputId": "da4a8ef9-cb1c-4deb-b259-4e536387238a"
      },
      "source": [
        "searchTitle = \"Alberto\" #Película base para las recomendaciones\n",
        "indexOfTitle = preprocessedData[preprocessedData['title']==searchTitle].index.values[0]\n",
        "distance_scores = list(enumerate(distance_matrixFinal[indexOfTitle]))\n",
        "ordered_scores = sorted(distance_scores, key=lambda x: x[1])\n",
        "top_scores = ordered_scores[0:11]\n",
        "print(top_scores)\n",
        "top_indexes = [i[0] for i in top_scores]\n",
        "print(preprocessedData['title'].iloc[top_indexes])"
      ],
      "execution_count": null,
      "outputs": [
        {
          "output_type": "stream",
          "text": [
            "[(4265, 0.0), (3554, 0.8007530757456257), (1800, 0.8512691067126563), (3719, 0.8662636862217409), (3510, 0.8792849906745047), (2520, 0.8904360274431539), (2308, 0.8940864776123613), (1533, 0.8945152280359095), (45, 0.8952050250142475), (2528, 0.8952890264125454), (444, 0.8969661556192621)]\n",
            "4265                                          Alberto\n",
            "3554                  Martin Lawrence Live: Runteldat\n",
            "1800                                         No Entry\n",
            "3719                                    One Last Shot\n",
            "3510                                A Trip to Jamaica\n",
            "2520                                  Mi Obra Maestra\n",
            "2308                                Chris Tucker Live\n",
            "1533    Undercover: How to Operate Behind Enemy Lines\n",
            "45                               Marc Maron: Too Real\n",
            "2528                                The Good Catholic\n",
            "444          Monty Python: Live at The Hollywood Bowl\n",
            "Name: title, dtype: object\n"
          ],
          "name": "stdout"
        }
      ]
    },
    {
      "cell_type": "markdown",
      "metadata": {
        "id": "Z0fS9m8ep5xG"
      },
      "source": [
        "\n",
        "**3.Almacenamiento del Dataset**\n",
        "\n",
        "\n",
        "Finalmente, se guarda el dataset con la nueva película agregada."
      ]
    },
    {
      "cell_type": "code",
      "metadata": {
        "id": "gyUkip6wpu23",
        "colab": {
          "base_uri": "https://localhost:8080/"
        },
        "outputId": "bbad8ca7-67b7-46a9-a64b-d674fd9dde8a"
      },
      "source": [
        "originalData.to_csv('originalData.csv')\n",
        "print(originalData.tail(10))"
      ],
      "execution_count": null,
      "outputs": [
        {
          "output_type": "stream",
          "text": [
            "       show_id  ...                      processed_genre\n",
            "4256  80097468  ...                          documentari\n",
            "4257  80171439  ...  documentari intern movi music music\n",
            "4258  80104237  ...                    drama intern movi\n",
            "4259  80093107  ...           drama intern movi thriller\n",
            "4260  80085438  ...                          documentari\n",
            "4261  80085439  ...           comedi drama independ movi\n",
            "4262  80011846  ...               documentari sport movi\n",
            "4263  80064521  ...                          documentari\n",
            "4264  80116008  ...                                 movi\n",
            "4265  61924216  ...                               comedi\n",
            "\n",
            "[10 rows x 6 columns]\n"
          ],
          "name": "stdout"
        }
      ]
    },
    {
      "cell_type": "markdown",
      "metadata": {
        "id": "BVf2xZGCnZRR"
      },
      "source": [
        "\n",
        "\n",
        "---\n",
        "\n",
        "\n",
        "##Modificar película\n",
        "\n",
        "Al igual que pasaba en *Añadir Película*, la modificación de una película también se divide en tres partes: modificación de la película; actualizaciones necesarios (cálculo de distancias o nuevo cálculo de identificador); y guardado del dataset modificado.\n",
        "\n",
        "\n",
        "Ha de tenerse en cuenta que para que todo el código que viene a continuación funcione, deben haberse ejecutado todos los bloques de código de la sacción **\"Procesado mediante la descripción y género de las películas\"**. Esto es debido a que en dicha sección se definen varias funciones que serán usadas en ésta."
      ]
    },
    {
      "cell_type": "markdown",
      "metadata": {
        "id": "hPVt8sPoY03F"
      },
      "source": [
        "**1.Modificación de la Película en el dataset**\n",
        "\n",
        "Primero de todo, debe cargarse el dataset que contiene todas las películas."
      ]
    },
    {
      "cell_type": "code",
      "metadata": {
        "id": "j43gMPrTnfr6",
        "colab": {
          "base_uri": "https://localhost:8080/",
          "height": 343
        },
        "outputId": "f413c700-fbcb-4f8a-fdba-8b354ee32070"
      },
      "source": [
        "import pandas as pd\n",
        "\n",
        "originalData = LoadData()\n",
        "originalData.tail(10)"
      ],
      "execution_count": null,
      "outputs": [
        {
          "output_type": "execute_result",
          "data": {
            "text/html": [
              "<div>\n",
              "<style scoped>\n",
              "    .dataframe tbody tr th:only-of-type {\n",
              "        vertical-align: middle;\n",
              "    }\n",
              "\n",
              "    .dataframe tbody tr th {\n",
              "        vertical-align: top;\n",
              "    }\n",
              "\n",
              "    .dataframe thead th {\n",
              "        text-align: right;\n",
              "    }\n",
              "</style>\n",
              "<table border=\"1\" class=\"dataframe\">\n",
              "  <thead>\n",
              "    <tr style=\"text-align: right;\">\n",
              "      <th></th>\n",
              "      <th>show_id</th>\n",
              "      <th>title</th>\n",
              "      <th>listed_in</th>\n",
              "      <th>description</th>\n",
              "    </tr>\n",
              "  </thead>\n",
              "  <tbody>\n",
              "    <tr>\n",
              "      <th>4255</th>\n",
              "      <td>80100054</td>\n",
              "      <td>Skins</td>\n",
              "      <td>Dramas, International Movies</td>\n",
              "      <td>Deformed, disfigured characters must find a wa...</td>\n",
              "    </tr>\n",
              "    <tr>\n",
              "      <th>4256</th>\n",
              "      <td>80097468</td>\n",
              "      <td>The Bad Kids</td>\n",
              "      <td>Documentaries</td>\n",
              "      <td>In this documentary, teachers at a Mojave Dese...</td>\n",
              "    </tr>\n",
              "    <tr>\n",
              "      <th>4257</th>\n",
              "      <td>80171439</td>\n",
              "      <td>The Human Factor: The Untold Story of the Bomb...</td>\n",
              "      <td>Documentaries, International Movies, Music &amp; M...</td>\n",
              "      <td>A family of Parsi musicians collectively works...</td>\n",
              "    </tr>\n",
              "    <tr>\n",
              "      <th>4258</th>\n",
              "      <td>80104237</td>\n",
              "      <td>The Tenth Man</td>\n",
              "      <td>Dramas, International Movies</td>\n",
              "      <td>After spending much of his adult life in New Y...</td>\n",
              "    </tr>\n",
              "    <tr>\n",
              "      <th>4259</th>\n",
              "      <td>80093107</td>\n",
              "      <td>Toro</td>\n",
              "      <td>Dramas, International Movies, Thrillers</td>\n",
              "      <td>Ex-con Toro's brother and former partner in cr...</td>\n",
              "    </tr>\n",
              "    <tr>\n",
              "      <th>4260</th>\n",
              "      <td>80085438</td>\n",
              "      <td>Frank and Cindy</td>\n",
              "      <td>Documentaries</td>\n",
              "      <td>Frank was a rising pop star when he married Ci...</td>\n",
              "    </tr>\n",
              "    <tr>\n",
              "      <th>4261</th>\n",
              "      <td>80085439</td>\n",
              "      <td>Frank and Cindy</td>\n",
              "      <td>Comedies, Dramas, Independent Movies</td>\n",
              "      <td>A student filmmaker vengefully turns his camer...</td>\n",
              "    </tr>\n",
              "    <tr>\n",
              "      <th>4262</th>\n",
              "      <td>80011846</td>\n",
              "      <td>Iverson</td>\n",
              "      <td>Documentaries, Sports Movies</td>\n",
              "      <td>This unfiltered documentary follows the rocky ...</td>\n",
              "    </tr>\n",
              "    <tr>\n",
              "      <th>4263</th>\n",
              "      <td>80064521</td>\n",
              "      <td>Jeremy Scott: The People's Designer</td>\n",
              "      <td>Documentaries</td>\n",
              "      <td>The journey of fashion designer Jeremy Scott f...</td>\n",
              "    </tr>\n",
              "    <tr>\n",
              "      <th>4264</th>\n",
              "      <td>80116008</td>\n",
              "      <td>Little Baby Bum: Nursery Rhyme Friends</td>\n",
              "      <td>Movies</td>\n",
              "      <td>Nursery rhymes and original music for children...</td>\n",
              "    </tr>\n",
              "  </tbody>\n",
              "</table>\n",
              "</div>"
            ],
            "text/plain": [
              "       show_id  ...                                        description\n",
              "4255  80100054  ...  Deformed, disfigured characters must find a wa...\n",
              "4256  80097468  ...  In this documentary, teachers at a Mojave Dese...\n",
              "4257  80171439  ...  A family of Parsi musicians collectively works...\n",
              "4258  80104237  ...  After spending much of his adult life in New Y...\n",
              "4259  80093107  ...  Ex-con Toro's brother and former partner in cr...\n",
              "4260  80085438  ...  Frank was a rising pop star when he married Ci...\n",
              "4261  80085439  ...  A student filmmaker vengefully turns his camer...\n",
              "4262  80011846  ...  This unfiltered documentary follows the rocky ...\n",
              "4263  80064521  ...  The journey of fashion designer Jeremy Scott f...\n",
              "4264  80116008  ...  Nursery rhymes and original music for children...\n",
              "\n",
              "[10 rows x 4 columns]"
            ]
          },
          "metadata": {
            "tags": []
          },
          "execution_count": 116
        }
      ]
    },
    {
      "cell_type": "markdown",
      "metadata": {
        "id": "WAoW81aonqjB"
      },
      "source": [
        "\n",
        "Se busca la película a editar y se modifican sus datos."
      ]
    },
    {
      "cell_type": "code",
      "metadata": {
        "id": "DzIafyDyn1lj",
        "colab": {
          "base_uri": "https://localhost:8080/",
          "height": 343
        },
        "outputId": "2d32831a-d456-4e71-f3f5-b51790a38de0"
      },
      "source": [
        "codigo = 80117401\n",
        "existe = False\n",
        "\n",
        "originalData.loc[originalData['show_id'] == codigo, ['description']] = 'The description\\'s value changed '\n",
        "originalData.head(10)"
      ],
      "execution_count": null,
      "outputs": [
        {
          "output_type": "execute_result",
          "data": {
            "text/html": [
              "<div>\n",
              "<style scoped>\n",
              "    .dataframe tbody tr th:only-of-type {\n",
              "        vertical-align: middle;\n",
              "    }\n",
              "\n",
              "    .dataframe tbody tr th {\n",
              "        vertical-align: top;\n",
              "    }\n",
              "\n",
              "    .dataframe thead th {\n",
              "        text-align: right;\n",
              "    }\n",
              "</style>\n",
              "<table border=\"1\" class=\"dataframe\">\n",
              "  <thead>\n",
              "    <tr style=\"text-align: right;\">\n",
              "      <th></th>\n",
              "      <th>show_id</th>\n",
              "      <th>title</th>\n",
              "      <th>listed_in</th>\n",
              "      <th>description</th>\n",
              "    </tr>\n",
              "  </thead>\n",
              "  <tbody>\n",
              "    <tr>\n",
              "      <th>0</th>\n",
              "      <td>81145628</td>\n",
              "      <td>Norm of the North: King Sized Adventure</td>\n",
              "      <td>Children &amp; Family Movies, Comedies</td>\n",
              "      <td>Before planning an awesome wedding for his gra...</td>\n",
              "    </tr>\n",
              "    <tr>\n",
              "      <th>1</th>\n",
              "      <td>80117401</td>\n",
              "      <td>Jandino: Whatever it Takes</td>\n",
              "      <td>Stand-Up Comedy</td>\n",
              "      <td>The description's value changed</td>\n",
              "    </tr>\n",
              "    <tr>\n",
              "      <th>2</th>\n",
              "      <td>80125979</td>\n",
              "      <td>#realityhigh</td>\n",
              "      <td>Comedies</td>\n",
              "      <td>When nerdy high schooler Dani finally attracts...</td>\n",
              "    </tr>\n",
              "    <tr>\n",
              "      <th>3</th>\n",
              "      <td>70304989</td>\n",
              "      <td>Automata</td>\n",
              "      <td>International Movies, Sci-Fi &amp; Fantasy, Thrillers</td>\n",
              "      <td>In a dystopian future, an insurance adjuster f...</td>\n",
              "    </tr>\n",
              "    <tr>\n",
              "      <th>4</th>\n",
              "      <td>80164077</td>\n",
              "      <td>Fabrizio Copano: Solo pienso en mi</td>\n",
              "      <td>Stand-Up Comedy</td>\n",
              "      <td>Fabrizio Copano takes audience participation t...</td>\n",
              "    </tr>\n",
              "    <tr>\n",
              "      <th>5</th>\n",
              "      <td>70304990</td>\n",
              "      <td>Good People</td>\n",
              "      <td>Action &amp; Adventure, Thrillers</td>\n",
              "      <td>A struggling couple can't believe their luck w...</td>\n",
              "    </tr>\n",
              "    <tr>\n",
              "      <th>6</th>\n",
              "      <td>80169755</td>\n",
              "      <td>Joaquín Reyes: Una y no más</td>\n",
              "      <td>Stand-Up Comedy</td>\n",
              "      <td>Comedian and celebrity impersonator Joaquín Re...</td>\n",
              "    </tr>\n",
              "    <tr>\n",
              "      <th>7</th>\n",
              "      <td>70299204</td>\n",
              "      <td>Kidnapping Mr. Heineken</td>\n",
              "      <td>Action &amp; Adventure, Dramas, International Movies</td>\n",
              "      <td>When beer magnate Alfred \"Freddy\" Heineken is ...</td>\n",
              "    </tr>\n",
              "    <tr>\n",
              "      <th>8</th>\n",
              "      <td>80182480</td>\n",
              "      <td>Krish Trish and Baltiboy</td>\n",
              "      <td>Children &amp; Family Movies</td>\n",
              "      <td>A team of minstrels, including a monkey, cat a...</td>\n",
              "    </tr>\n",
              "    <tr>\n",
              "      <th>9</th>\n",
              "      <td>80182483</td>\n",
              "      <td>Krish Trish and Baltiboy: Battle of Wits</td>\n",
              "      <td>Children &amp; Family Movies</td>\n",
              "      <td>An artisan is cheated of his payment, a lion o...</td>\n",
              "    </tr>\n",
              "  </tbody>\n",
              "</table>\n",
              "</div>"
            ],
            "text/plain": [
              "    show_id  ...                                        description\n",
              "0  81145628  ...  Before planning an awesome wedding for his gra...\n",
              "1  80117401  ...                   The description's value changed \n",
              "2  80125979  ...  When nerdy high schooler Dani finally attracts...\n",
              "3  70304989  ...  In a dystopian future, an insurance adjuster f...\n",
              "4  80164077  ...  Fabrizio Copano takes audience participation t...\n",
              "5  70304990  ...  A struggling couple can't believe their luck w...\n",
              "6  80169755  ...  Comedian and celebrity impersonator Joaquín Re...\n",
              "7  70299204  ...  When beer magnate Alfred \"Freddy\" Heineken is ...\n",
              "8  80182480  ...  A team of minstrels, including a monkey, cat a...\n",
              "9  80182483  ...  An artisan is cheated of his payment, a lion o...\n",
              "\n",
              "[10 rows x 4 columns]"
            ]
          },
          "metadata": {
            "tags": []
          },
          "execution_count": 117
        }
      ]
    },
    {
      "cell_type": "markdown",
      "metadata": {
        "id": "Jad9qfZrn2Hq"
      },
      "source": [
        "**2.Cálculo de distancias**\n",
        "\n",
        "Ahora se debe actualizar la bolsa de palabras para que se tenga en cuenta la modificación realizada."
      ]
    },
    {
      "cell_type": "code",
      "metadata": {
        "id": "xtPIfxban7zA",
        "colab": {
          "base_uri": "https://localhost:8080/"
        },
        "outputId": "c3a11add-cc10-4e1b-92e7-eb0d03907d0e"
      },
      "source": [
        "preprocessedData = ProcessedText()\n",
        "textsBoW = TextsBoW()\n",
        "distance_matrix = Distance()\n",
        "\n",
        "preprocessedData = ProcessedGenre()\n",
        "textsBoWG = TextsBoWG()\n",
        "distance_matrixG = DistanceG()\n",
        "\n",
        "distance_matrixFinal = add(distance_matrix,distance_matrixG)\n",
        "\n",
        "print(distance_matrixFinal.shape)\n",
        "print(type(distance_matrixFinal))"
      ],
      "execution_count": null,
      "outputs": [
        {
          "output_type": "stream",
          "text": [
            "(4265, 4265)\n",
            "<class 'numpy.ndarray'>\n"
          ],
          "name": "stdout"
        }
      ]
    },
    {
      "cell_type": "markdown",
      "metadata": {
        "id": "CMBYEI7UZN2Q"
      },
      "source": [
        "**3.Almacenamiento del Dataset**\n",
        "\n",
        "Finalmente, se guarda en el dataset las modificaciones agregadas a la película."
      ]
    },
    {
      "cell_type": "code",
      "metadata": {
        "id": "O9vI9S40ZS6M",
        "colab": {
          "base_uri": "https://localhost:8080/"
        },
        "outputId": "0da4f4c3-493f-4a10-fc04-2b391be0451b"
      },
      "source": [
        "originalData.to_csv('originalData.csv')\n",
        "print(originalData.head(10))"
      ],
      "execution_count": null,
      "outputs": [
        {
          "output_type": "stream",
          "text": [
            "    show_id  ...                    processed_genre\n",
            "0  81145628  ...        children famili movi comedi\n",
            "1  80117401  ...                             comedi\n",
            "2  80125979  ...                             comedi\n",
            "3  70304989  ...       intern movi fantasi thriller\n",
            "4  80164077  ...                             comedi\n",
            "5  70304990  ...           action adventur thriller\n",
            "6  80169755  ...                             comedi\n",
            "7  70299204  ...  action adventur drama intern movi\n",
            "8  80182480  ...               children famili movi\n",
            "9  80182483  ...               children famili movi\n",
            "\n",
            "[10 rows x 6 columns]\n"
          ],
          "name": "stdout"
        }
      ]
    },
    {
      "cell_type": "markdown",
      "metadata": {
        "id": "anfVgxqZJI2-"
      },
      "source": [
        "#Sistema de recomendación"
      ]
    },
    {
      "cell_type": "markdown",
      "metadata": {
        "id": "1kosoW97SiR4"
      },
      "source": [
        "## Funcionamiento de sistema de recomendación en base a descripciones textuales\n"
      ]
    },
    {
      "cell_type": "markdown",
      "metadata": {
        "id": "MJxSKoibStRT"
      },
      "source": [
        "A continuación, se muestra un ejemplo de uso del sistema de Recomendación. Se seleccinó la película *Automata* para obtener una lista de recomendaciones de películas que guardan cierta similitud con ésta.\n",
        "\n",
        "Ha de tenerse en cuenta que para que todo el código que viene a continuación funcione, deben haberse ejecutado todos los bloques de código del apartado **\"Procesado mediante la descripción y género de las películas\"** de la sección Gestión CRUD. Aunque no aparezca en esta sección el Procesado mediante la descripción y género de las películas pertenece al Sistema de recomendación. La obligatoriedad de la ejecución de dicho apartado es debido a que es en este apartado donde se genera la matriz de distancias entre películas necesaria para realizar el proceso de recomendación."
      ]
    },
    {
      "cell_type": "code",
      "metadata": {
        "id": "tdNXCNazniVc",
        "colab": {
          "base_uri": "https://localhost:8080/"
        },
        "outputId": "83b682fc-743c-48e9-fdee-1cdf52647a3a"
      },
      "source": [
        "searchTitle = \"Automata\" #Película base para las recomendaciones\n",
        "indexOfTitle = preprocessedData[preprocessedData['title']==searchTitle].index.values[0]\n",
        "indexOfTitle"
      ],
      "execution_count": null,
      "outputs": [
        {
          "output_type": "execute_result",
          "data": {
            "text/plain": [
              "3"
            ]
          },
          "metadata": {
            "tags": []
          },
          "execution_count": 120
        }
      ]
    },
    {
      "cell_type": "markdown",
      "metadata": {
        "id": "ExS7ui9xWeAz"
      },
      "source": [
        "\n",
        "Distancia entre la película Automata con el resto de la matriz.\n",
        "1.5 -> Ningún parecido.\n",
        "0.0 -> Completamente igual."
      ]
    },
    {
      "cell_type": "code",
      "metadata": {
        "id": "HFLDHGYhnxYx",
        "colab": {
          "base_uri": "https://localhost:8080/"
        },
        "outputId": "cb60f1ca-8d44-4d22-f645-b091e915a59c"
      },
      "source": [
        "distance_scores = list(enumerate(distance_matrixFinal[indexOfTitle]))\n",
        "distance_scores[0:11]"
      ],
      "execution_count": null,
      "outputs": [
        {
          "output_type": "execute_result",
          "data": {
            "text/plain": [
              "[(0, 1.1179838769274695),\n",
              " (1, 1.125),\n",
              " (2, 1.125),\n",
              " (3, 0.0),\n",
              " (4, 1.125),\n",
              " (5, 1.078857398522215),\n",
              " (6, 1.125),\n",
              " (7, 1.10397572808732),\n",
              " (8, 1.1173842834543346),\n",
              " (9, 1.1173842834543346),\n",
              " (10, 1.1173842834543346)]"
            ]
          },
          "metadata": {
            "tags": []
          },
          "execution_count": 121
        }
      ]
    },
    {
      "cell_type": "markdown",
      "metadata": {
        "id": "GZDu-YtEW5hj"
      },
      "source": [
        "\n",
        "\n",
        "Ordenadas las distancias. La primera es la propia película Automata, por eso su diferencia es 0.0."
      ]
    },
    {
      "cell_type": "code",
      "metadata": {
        "id": "KBCOhWa7n9j-",
        "colab": {
          "base_uri": "https://localhost:8080/"
        },
        "outputId": "a546b71b-eb5d-4f2f-f02f-da224e46072c"
      },
      "source": [
        "ordered_scores = sorted(distance_scores, key=lambda x: x[1])\n",
        "ordered_scores[0:11]"
      ],
      "execution_count": null,
      "outputs": [
        {
          "output_type": "execute_result",
          "data": {
            "text/plain": [
              "[(3, 0.0),\n",
              " (3128, 0.8803039037690801),\n",
              " (2176, 0.8986352017001517),\n",
              " (1200, 0.9042604560361982),\n",
              " (886, 0.9063044750703562),\n",
              " (2566, 0.9112390175427516),\n",
              " (1858, 0.9152425359825711),\n",
              " (3606, 0.9217303806387209),\n",
              " (1923, 0.9267826461474766),\n",
              " (3471, 0.9438910722036926),\n",
              " (2425, 0.9439620705159506)]"
            ]
          },
          "metadata": {
            "tags": []
          },
          "execution_count": 122
        }
      ]
    },
    {
      "cell_type": "markdown",
      "metadata": {
        "id": "9w_qro-aXPiT"
      },
      "source": [
        "\n",
        "A continuación, se muestran las 10 películas más parecidas a Automata y se recogen sus índices para poder consultar su información.."
      ]
    },
    {
      "cell_type": "code",
      "metadata": {
        "id": "K5VV4eL6oGps",
        "colab": {
          "base_uri": "https://localhost:8080/"
        },
        "outputId": "1c7aa4e2-4f75-4af0-963c-876e4ab389be"
      },
      "source": [
        "top_scores = ordered_scores[0:11]\n",
        "top_scores"
      ],
      "execution_count": null,
      "outputs": [
        {
          "output_type": "execute_result",
          "data": {
            "text/plain": [
              "[(3, 0.0),\n",
              " (3128, 0.8803039037690801),\n",
              " (2176, 0.8986352017001517),\n",
              " (1200, 0.9042604560361982),\n",
              " (886, 0.9063044750703562),\n",
              " (2566, 0.9112390175427516),\n",
              " (1858, 0.9152425359825711),\n",
              " (3606, 0.9217303806387209),\n",
              " (1923, 0.9267826461474766),\n",
              " (3471, 0.9438910722036926),\n",
              " (2425, 0.9439620705159506)]"
            ]
          },
          "metadata": {
            "tags": []
          },
          "execution_count": 123
        }
      ]
    },
    {
      "cell_type": "code",
      "metadata": {
        "id": "FFnT-DygoJ-8",
        "colab": {
          "base_uri": "https://localhost:8080/"
        },
        "outputId": "97967a3b-43b9-4493-b5c8-bf5a9a4e57b8"
      },
      "source": [
        "top_indexes = [i[0] for i in top_scores]\n",
        "top_indexes"
      ],
      "execution_count": null,
      "outputs": [
        {
          "output_type": "execute_result",
          "data": {
            "text/plain": [
              "[3, 3128, 2176, 1200, 886, 2566, 1858, 3606, 1923, 3471, 2425]"
            ]
          },
          "metadata": {
            "tags": []
          },
          "execution_count": 124
        }
      ]
    },
    {
      "cell_type": "markdown",
      "metadata": {
        "id": "AXaF6rINXUVt"
      },
      "source": [
        "\n",
        "Títulos de las 10 películas más parecidas."
      ]
    },
    {
      "cell_type": "code",
      "metadata": {
        "id": "maCRoTbuoNLG",
        "colab": {
          "base_uri": "https://localhost:8080/"
        },
        "outputId": "a66d66ed-5d62-4633-b9b9-18a1826e2c14"
      },
      "source": [
        "preprocessedData['title'].iloc[top_indexes]"
      ],
      "execution_count": null,
      "outputs": [
        {
          "output_type": "execute_result",
          "data": {
            "text/plain": [
              "3                             Automata\n",
              "3128                            Master\n",
              "2176                        Ex Machina\n",
              "1200                              Anon\n",
              "886                      The Rainmaker\n",
              "2566    Roger Corman's Death Race 2050\n",
              "1858                       Equilibrium\n",
              "3606                        The Worthy\n",
              "1923                               TAU\n",
              "3471                        F.R.E.D.I.\n",
              "2425                Suicide (Hitabdut)\n",
              "Name: title, dtype: object"
            ]
          },
          "metadata": {
            "tags": []
          },
          "execution_count": 125
        }
      ]
    },
    {
      "cell_type": "code",
      "metadata": {
        "id": "OVghg0p0uPnX",
        "colab": {
          "base_uri": "https://localhost:8080/",
          "height": 558
        },
        "outputId": "d4cc6f8b-ed17-4d72-d699-27def2a05e39"
      },
      "source": [
        "originalData.iloc[top_indexes]"
      ],
      "execution_count": null,
      "outputs": [
        {
          "output_type": "execute_result",
          "data": {
            "text/html": [
              "<div>\n",
              "<style scoped>\n",
              "    .dataframe tbody tr th:only-of-type {\n",
              "        vertical-align: middle;\n",
              "    }\n",
              "\n",
              "    .dataframe tbody tr th {\n",
              "        vertical-align: top;\n",
              "    }\n",
              "\n",
              "    .dataframe thead th {\n",
              "        text-align: right;\n",
              "    }\n",
              "</style>\n",
              "<table border=\"1\" class=\"dataframe\">\n",
              "  <thead>\n",
              "    <tr style=\"text-align: right;\">\n",
              "      <th></th>\n",
              "      <th>show_id</th>\n",
              "      <th>title</th>\n",
              "      <th>listed_in</th>\n",
              "      <th>description</th>\n",
              "      <th>processed_text</th>\n",
              "      <th>processed_genre</th>\n",
              "    </tr>\n",
              "  </thead>\n",
              "  <tbody>\n",
              "    <tr>\n",
              "      <th>3</th>\n",
              "      <td>70304989</td>\n",
              "      <td>Automata</td>\n",
              "      <td>International Movies, Sci-Fi &amp; Fantasy, Thrillers</td>\n",
              "      <td>In a dystopian future, an insurance adjuster f...</td>\n",
              "      <td>In dystopian futur insur adjust tech compani i...</td>\n",
              "      <td>intern movi fantasi thriller</td>\n",
              "    </tr>\n",
              "    <tr>\n",
              "      <th>3128</th>\n",
              "      <td>80163352</td>\n",
              "      <td>Master</td>\n",
              "      <td>Action &amp; Adventure, International Movies</td>\n",
              "      <td>Needing hard evidence to convict a company cha...</td>\n",
              "      <td>need hard evid convict compani chairman fraud ...</td>\n",
              "      <td>action adventur intern movi</td>\n",
              "    </tr>\n",
              "    <tr>\n",
              "      <th>2176</th>\n",
              "      <td>80023689</td>\n",
              "      <td>Ex Machina</td>\n",
              "      <td>Dramas, Independent Movies, International Movies</td>\n",
              "      <td>A coder at a tech company wins a week-long ret...</td>\n",
              "      <td>A coder tech compani win retreat compound comp...</td>\n",
              "      <td>drama independ movi intern movi</td>\n",
              "    </tr>\n",
              "    <tr>\n",
              "      <th>1200</th>\n",
              "      <td>80195964</td>\n",
              "      <td>Anon</td>\n",
              "      <td>Dramas, Sci-Fi &amp; Fantasy, Thrillers</td>\n",
              "      <td>In a future where technology has rendered priv...</td>\n",
              "      <td>In futur technolog render privaci obsolet dete...</td>\n",
              "      <td>drama fantasi thriller</td>\n",
              "    </tr>\n",
              "    <tr>\n",
              "      <th>886</th>\n",
              "      <td>1181661</td>\n",
              "      <td>The Rainmaker</td>\n",
              "      <td>Dramas, Thrillers</td>\n",
              "      <td>A young attorney and a scrappy paralegal work ...</td>\n",
              "      <td>A young attorney scrappi paraleg work help par...</td>\n",
              "      <td>drama thriller</td>\n",
              "    </tr>\n",
              "    <tr>\n",
              "      <th>2566</th>\n",
              "      <td>80152003</td>\n",
              "      <td>Roger Corman's Death Race 2050</td>\n",
              "      <td>Action &amp; Adventure, Sci-Fi &amp; Fantasy</td>\n",
              "      <td>In this dystopian sequel, kills equal points i...</td>\n",
              "      <td>In dystopian sequel kill equal point violent g...</td>\n",
              "      <td>action adventur fantasi</td>\n",
              "    </tr>\n",
              "    <tr>\n",
              "      <th>1858</th>\n",
              "      <td>60024935</td>\n",
              "      <td>Equilibrium</td>\n",
              "      <td>Action &amp; Adventure, Dramas, Sci-Fi &amp; Fantasy</td>\n",
              "      <td>In a dystopian future, a totalitarian regime m...</td>\n",
              "      <td>In dystopian futur totalitarian regim maintain...</td>\n",
              "      <td>action adventur drama fantasi</td>\n",
              "    </tr>\n",
              "    <tr>\n",
              "      <th>3606</th>\n",
              "      <td>80191513</td>\n",
              "      <td>The Worthy</td>\n",
              "      <td>International Movies, Sci-Fi &amp; Fantasy, Thrillers</td>\n",
              "      <td>In the near future, with civilization a thing ...</td>\n",
              "      <td>In near futur civil thing past man put famili ...</td>\n",
              "      <td>intern movi fantasi thriller</td>\n",
              "    </tr>\n",
              "    <tr>\n",
              "      <th>1923</th>\n",
              "      <td>80217569</td>\n",
              "      <td>TAU</td>\n",
              "      <td>Sci-Fi &amp; Fantasy, Thrillers</td>\n",
              "      <td>Kidnapped by an inventor who uses her as a tes...</td>\n",
              "      <td>kidnap inventor use test subject perfect robot...</td>\n",
              "      <td>fantasi thriller</td>\n",
              "    </tr>\n",
              "    <tr>\n",
              "      <th>3471</th>\n",
              "      <td>81025946</td>\n",
              "      <td>F.R.E.D.I.</td>\n",
              "      <td>Children &amp; Family Movies, Sci-Fi &amp; Fantasy</td>\n",
              "      <td>Venturing into the woods, high schooler James ...</td>\n",
              "      <td>ventur wood high schooler jame discov intellig...</td>\n",
              "      <td>children famili movi fantasi</td>\n",
              "    </tr>\n",
              "    <tr>\n",
              "      <th>2425</th>\n",
              "      <td>80106139</td>\n",
              "      <td>Suicide (Hitabdut)</td>\n",
              "      <td>International Movies, Thrillers</td>\n",
              "      <td>A failed businessman must kill himself to pay ...</td>\n",
              "      <td>A fail businessman must kill pay loan shark fa...</td>\n",
              "      <td>intern movi thriller</td>\n",
              "    </tr>\n",
              "  </tbody>\n",
              "</table>\n",
              "</div>"
            ],
            "text/plain": [
              "       show_id  ...                  processed_genre\n",
              "3     70304989  ...     intern movi fantasi thriller\n",
              "3128  80163352  ...      action adventur intern movi\n",
              "2176  80023689  ...  drama independ movi intern movi\n",
              "1200  80195964  ...           drama fantasi thriller\n",
              "886    1181661  ...                   drama thriller\n",
              "2566  80152003  ...          action adventur fantasi\n",
              "1858  60024935  ...    action adventur drama fantasi\n",
              "3606  80191513  ...     intern movi fantasi thriller\n",
              "1923  80217569  ...                 fantasi thriller\n",
              "3471  81025946  ...     children famili movi fantasi\n",
              "2425  80106139  ...             intern movi thriller\n",
              "\n",
              "[11 rows x 6 columns]"
            ]
          },
          "metadata": {
            "tags": []
          },
          "execution_count": 126
        }
      ]
    },
    {
      "cell_type": "markdown",
      "metadata": {
        "id": "PSFH6j18Fk66"
      },
      "source": [
        "#Sistema de valoración manual y automática\r\n",
        "\r\n",
        "\r\n"
      ]
    },
    {
      "cell_type": "markdown",
      "metadata": {
        "id": "L0H4PjY8rJkk"
      },
      "source": [
        "##Carga y procesado de los dataset\r\n",
        "\r\n",
        "El dataset ratings_small.csv contiene valoraciones, del 1 al 5, de películas hechas por distintos usuarios. El dataset dataMovies contiene películas de netflix. El objetivo del procesado de los datos será sustituir los IDs de las películas de  ratings_small por los IDs de las películas de dataMovies. \r\n",
        "\r\n",
        "Además, también serán cambiadas las valoraciones a -1 y 1.\r\n",
        "\r\n",
        "El dataset resultante se guarda en ratings.csv que será usado, posteriormente, para las valoraciones de películas y el filtrado colaborativo."
      ]
    },
    {
      "cell_type": "code",
      "metadata": {
        "id": "GqbP6XENFtcL",
        "colab": {
          "base_uri": "https://localhost:8080/"
        },
        "outputId": "324de73f-1991-4a44-dda6-68ed7c687954"
      },
      "source": [
        "import pandas as pd\n",
        "import random\n",
        "import numpy as np\n",
        "\n",
        "def LoadRatings():\n",
        "  ratings = pd.read_csv('/content/ratings_small.csv')\n",
        "  return ratings\n",
        "\n",
        "def LoadDataMovies():\n",
        "  dataMovies = pd.read_csv('/content/dataMovies.csv')\n",
        "  return dataMovies\n",
        "\n",
        "ratings = LoadRatings()\n",
        "dataMovies = LoadDataMovies()\n",
        "\n",
        "userIds = ratings[\"userId\"].unique()\n",
        "moviesIds = dataMovies[\"show_id\"].unique()\n",
        "userId = 1;\n",
        "copiaIds = moviesIds\n",
        "for i in ratings.index:\n",
        "  if ratings.iloc[i]['userId'] != userId:\n",
        "    userId = userId + 1\n",
        "    copiaIds = moviesIds\n",
        "  randomId = random.choice(copiaIds)\n",
        "  ratings.at[i,'movieId'] = randomId\n",
        "  # ratings.iloc[i]['movieId'] = randomId\n",
        "  np.delete(copiaIds, np.where(copiaIds == randomId))\n",
        "\n",
        "  if ratings.iloc[i]['rating'] < 2.5:\n",
        "    ratings.at[i,'rating'] = -1\n",
        "  else :\n",
        "    ratings.at[i,'rating'] = 1\n",
        "\n",
        "ratings = ratings.drop(columns=['timestamp'])\n",
        "ratings = ratings.reset_index()\n",
        "ratings = ratings.drop(columns=['index'])\n",
        "ratings.to_csv('ratings.csv')\n",
        "print(ratings.head(10))\n",
        "print(\" \")\n",
        "print(ratings['rating'].value_counts())"
      ],
      "execution_count": null,
      "outputs": [
        {
          "output_type": "stream",
          "text": [
            "   userId   movieId  rating\n",
            "0       1  80135563     1.0\n",
            "1       1  80213712     1.0\n",
            "2       1  80032636     1.0\n",
            "3       1  81217738    -1.0\n",
            "4       1  81214223     1.0\n",
            "5       1  81010865    -1.0\n",
            "6       1  80198687    -1.0\n",
            "7       1  70267439    -1.0\n",
            "8       1  81132443     1.0\n",
            "9       1  80218973    -1.0\n",
            " \n",
            " 1.0    86619\n",
            "-1.0    13385\n",
            "Name: rating, dtype: int64\n"
          ],
          "name": "stdout"
        }
      ]
    },
    {
      "cell_type": "markdown",
      "metadata": {
        "id": "GPEpiwbE0ThC"
      },
      "source": [
        "Para el aprendizaje automático, usaremos el dataset \"Train.csv\" que contiene comentarios de usurios y una clasificación de si ese comentario es positivo o negativo. Además, se cambiarán los valores 0 de la columna label por -1."
      ]
    },
    {
      "cell_type": "code",
      "metadata": {
        "colab": {
          "base_uri": "https://localhost:8080/"
        },
        "id": "0FnvHu-qvTCT",
        "outputId": "c17e0fab-7834-4f50-b940-48231e043158"
      },
      "source": [
        "import pandas as pd\r\n",
        "\r\n",
        "def LoadReviews():\r\n",
        "  reviews = pd.read_csv('/content/Train.csv')\r\n",
        "  return reviews\r\n",
        "\r\n",
        "reviews = LoadReviews()\r\n",
        "\r\n",
        "for i in reviews.index:\r\n",
        "  if reviews.iloc[i]['label'] == 0:\r\n",
        "    reviews.at[i,'label'] = -1\r\n",
        "\r\n",
        "reviews = reviews.head(20000)\r\n",
        "reviews.to_csv('reviews.csv')\r\n",
        "print(reviews.head(10))\r\n",
        "print(\" \")\r\n",
        "print(reviews['label'].value_counts())"
      ],
      "execution_count": null,
      "outputs": [
        {
          "output_type": "stream",
          "text": [
            "                                                text  label\n",
            "0  I grew up (b. 1965) watching and loving the Th...     -1\n",
            "1  When I put this movie in my DVD player, and sa...     -1\n",
            "2  Why do people who do not know what a particula...     -1\n",
            "3  Even though I have great interest in Biblical ...     -1\n",
            "4  Im a die hard Dads Army fan and nothing will e...      1\n",
            "5  A terrible movie as everyone has said. What ma...     -1\n",
            "6  Finally watched this shocking movie last night...      1\n",
            "7  I caught this film on AZN on cable. It sounded...     -1\n",
            "8  It may be the remake of 1987 Autumn's Tale aft...      1\n",
            "9  My Super Ex Girlfriend turned out to be a plea...      1\n",
            " \n",
            "-1    10024\n",
            " 1     9976\n",
            "Name: label, dtype: int64\n"
          ],
          "name": "stdout"
        }
      ]
    },
    {
      "cell_type": "markdown",
      "metadata": {
        "id": "OO9ZkOJ4zI40"
      },
      "source": [
        "Para comprobar que la preción del aprendizaje automático realizado ha sido correcta, usaremos el dataset de prueba Test. Este dataset ya contiene una clasificación de los comentarios, las cuales serán comparadas con los resultados obtenidos tras haber hecho la valoración automática de los comentarios. Al igual que en el dataset anterior, los valores 0 de la columna 'label' serán sustituídos por -1."
      ]
    },
    {
      "cell_type": "code",
      "metadata": {
        "colab": {
          "base_uri": "https://localhost:8080/"
        },
        "id": "6ZUxkEhOzIK2",
        "outputId": "3a7eb232-d06f-490a-b181-c6ac36d13f5a"
      },
      "source": [
        "import pandas as pd\r\n",
        "\r\n",
        "def LoadTest():\r\n",
        "  test = pd.read_csv('/content/Test.csv')\r\n",
        "  return test\r\n",
        "\r\n",
        "test = LoadTest()\r\n",
        "\r\n",
        "for i in test.index:\r\n",
        "  if test.iloc[i]['label'] == 0:\r\n",
        "    test.at[i,'label'] = -1\r\n",
        "\r\n",
        "print(test.head(10))\r\n",
        "print(\" \")\r\n",
        "print(test['label'].value_counts())"
      ],
      "execution_count": null,
      "outputs": [
        {
          "output_type": "stream",
          "text": [
            "                                                text  label\n",
            "0  I always wrote this series off as being a comp...     -1\n",
            "1  1st watched 12/7/2002 - 3 out of 10(Dir-Steve ...     -1\n",
            "2  This movie was so poorly written and directed ...     -1\n",
            "3  The most interesting thing about Miryang (Secr...      1\n",
            "4  when i first read about \"berlin am meer\" i did...     -1\n",
            "5  I saw this film on September 1st, 2005 in Indi...      1\n",
            "6  I saw a screening of this movie last night. I ...     -1\n",
            "7  William Hurt may not be an American matinee id...      1\n",
            "8  IT IS A PIECE OF CRAP! not funny at all. durin...     -1\n",
            "9  I'M BOUT IT(1997)<br /><br />Developed & publi...     -1\n",
            " \n",
            " 1    2505\n",
            "-1    2495\n",
            "Name: label, dtype: int64\n"
          ],
          "name": "stdout"
        }
      ]
    },
    {
      "cell_type": "markdown",
      "metadata": {
        "id": "vv0OOoZfD1N2"
      },
      "source": [
        "## Proceso de aprendizaje supervisado\r\n",
        "\r\n",
        "A continuación se realizan los pasos para entrenar al algoritmo teniendo como dataset de entrada \"reviews\". Como resultado se obtiene un sistema entrenado que es capaz de clasificar comentarios en positivos (valor 1) o negativos (valor -1)."
      ]
    },
    {
      "cell_type": "code",
      "metadata": {
        "colab": {
          "base_uri": "https://localhost:8080/"
        },
        "id": "ZivcWHRX1TDD",
        "outputId": "5f3d62d5-2813-4c7c-bbdf-72ddcca2d37d"
      },
      "source": [
        "from nltk.tokenize import word_tokenize \r\n",
        "from nltk.corpus import stopwords\r\n",
        "from nltk.stem import PorterStemmer\r\n",
        "from sklearn.feature_extraction.text import TfidfVectorizer\r\n",
        "from sklearn import svm\r\n",
        "\r\n",
        "import nltk\r\n",
        "nltk.download('punkt')\r\n",
        "nltk.download('stopwords')\r\n",
        "\r\n",
        "ps = PorterStemmer()\r\n",
        "\r\n",
        "preprocessedText = []\r\n",
        "\r\n",
        "for row in reviews.itertuples():\r\n",
        "    \r\n",
        "    \r\n",
        "    text = word_tokenize(row[1]) ## indice de la columna que contiene el texto\r\n",
        "    ## Remove stop words\r\n",
        "    stops = set(stopwords.words(\"english\"))\r\n",
        "    text = [ps.stem(w) for w in text if not w in stops and w.isalnum()]\r\n",
        "    text = \" \".join(text)\r\n",
        "    \r\n",
        "    preprocessedText.append(text)\r\n",
        "\r\n",
        "preprocessedData = reviews\r\n",
        "preprocessedData['processed_text'] = preprocessedText\r\n",
        "\r\n",
        "bagOfWordsModel = TfidfVectorizer()\r\n",
        "bagOfWordsModel.fit(preprocessedData['processed_text'])\r\n",
        "textsBoW= bagOfWordsModel.transform(preprocessedData['processed_text'])\r\n",
        "\r\n",
        "svc = svm.SVC(kernel='linear') #Modelo de clasificación\r\n",
        "X_train = textsBoW #Documentos\r\n",
        "Y_train = reviews['label'] #Etiquetas de los documentos \r\n",
        "svc.fit(X_train, Y_train) #Entrenamiento\r\n"
      ],
      "execution_count": null,
      "outputs": [
        {
          "output_type": "stream",
          "text": [
            "[nltk_data] Downloading package punkt to /root/nltk_data...\n",
            "[nltk_data]   Package punkt is already up-to-date!\n",
            "[nltk_data] Downloading package stopwords to /root/nltk_data...\n",
            "[nltk_data]   Package stopwords is already up-to-date!\n"
          ],
          "name": "stdout"
        },
        {
          "output_type": "execute_result",
          "data": {
            "text/plain": [
              "SVC(C=1.0, break_ties=False, cache_size=200, class_weight=None, coef0=0.0,\n",
              "    decision_function_shape='ovr', degree=3, gamma='scale', kernel='linear',\n",
              "    max_iter=-1, probability=False, random_state=None, shrinking=True,\n",
              "    tol=0.001, verbose=False)"
            ]
          },
          "metadata": {
            "tags": []
          },
          "execution_count": 130
        }
      ]
    },
    {
      "cell_type": "markdown",
      "metadata": {
        "id": "GSdWxobs4eiH"
      },
      "source": [
        "Para comprobar que el sistema de clasificación de comentarios funciona correctamente, pasamos un test que contiene comentarios para que el sistema los clasifique. Este dataset también contiene una clasificación ya correcta de los comentarios que servirán para comparar con la clasificación hecha por el sistema."
      ]
    },
    {
      "cell_type": "code",
      "metadata": {
        "colab": {
          "base_uri": "https://localhost:8080/"
        },
        "id": "uNgMBEEv4uZs",
        "outputId": "cfbdae7b-febc-4571-b227-dde446fb5d00"
      },
      "source": [
        "from sklearn.metrics import classification_report\r\n",
        "\r\n",
        "ps = PorterStemmer()\r\n",
        "preprocessedText = []\r\n",
        "for row in test.itertuples():\r\n",
        "    text = word_tokenize(row[1]) ## indice de la columna que contiene el texto\r\n",
        "    ## Remove stop words\r\n",
        "    stops = set(stopwords.words(\"english\"))\r\n",
        "    text = [ps.stem(w) for w in text if not w in stops and w.isalnum()]\r\n",
        "    text = \" \".join(text)\r\n",
        "    preprocessedText.append(text)\r\n",
        "preprocessedDataTest = test\r\n",
        "preprocessedDataTest['processed_text'] = preprocessedText\r\n",
        "\r\n",
        "textsBoWTest= bagOfWordsModel.transform(preprocessedDataTest['processed_text'])\r\n",
        "\r\n",
        "X_test = textsBoWTest #Documentos\r\n",
        "predictions = svc.predict(X_test) #Se almacena en el array predictions las predicciones del clasificador\r\n",
        "\r\n",
        "Y_test = test['label'] #Etiquetas reales de los documentos\r\n",
        "print (classification_report(Y_test, predictions))"
      ],
      "execution_count": null,
      "outputs": [
        {
          "output_type": "stream",
          "text": [
            "              precision    recall  f1-score   support\n",
            "\n",
            "          -1       0.89      0.87      0.88      2495\n",
            "           1       0.87      0.90      0.89      2505\n",
            "\n",
            "    accuracy                           0.88      5000\n",
            "   macro avg       0.88      0.88      0.88      5000\n",
            "weighted avg       0.88      0.88      0.88      5000\n",
            "\n"
          ],
          "name": "stdout"
        }
      ]
    },
    {
      "cell_type": "markdown",
      "metadata": {
        "id": "yytanLJFDF9e"
      },
      "source": [
        "## Valorar de forma automática\r\n",
        "\r\n",
        "Para realizar la valoración automática, creamos un dataset que incluye el usuario que realiza el comentario, la película que está valorando y la crítica que hace el usuario sobre la película. Además, se incluye un campo clasificación en el que se añadirán las predicciones realizadas por el sistema. Por defecto, el valor de clasificación se pone a 0.\r\n",
        "\r\n",
        "Cabe destacar que tenemos dos dataset relacionados con las valoraciones. El primer dataset, **ratings**, continene información del usuario, la película que valoró y una valoración numérica (-1 ó 1). El segundo dataset, **comentaries**, contiene información del usuario que valora, la película que está valorando y el comentario con el cual valoró la película. El sistema se encargará de clasificar dicho comentario en positivo o negativo y escribir el valor en el dataset ratings."
      ]
    },
    {
      "cell_type": "code",
      "metadata": {
        "colab": {
          "base_uri": "https://localhost:8080/"
        },
        "id": "JfOhRa20EQN7",
        "outputId": "e16c14ac-0356-4879-f9ba-34a8fb6bf638"
      },
      "source": [
        "import pandas as pd\r\n",
        "comentaries = pd.DataFrame(columns=('userId', 'movieId', 'text', 'rating'))\r\n",
        "comentaries.loc[len(comentaries)]=[1,81157840,'The writers got carried away, the directors over reached and the studio sacrificed the integrity of their product.',0]\r\n",
        "comentaries.loc[len(comentaries)]=[2,81157840,'Having read the first few Harry Potter books before 2001 and hearing about the hype for the first movie, I was excited. I heard there was going to be an all-British cast (which makes sense, right?) and wed get to see a live version of one of the defining novels of our generation. From what I remember I went with my family and a family friend to see the movie the day after Christmas and was pleasantly amazed. After the movie was over, I watched the credits and discovered some familiar names (the late Alan Rickman, Sister Acts Maggie Smith, James Bond 007s Robbie Coltrane, and Star Wars Warwick Davis); others not so familiar (the kids, some of whom had their debut). But it was a good movie and was a party of colors and sights for all to see. This is easily my favorite of all the Harry Potter films. The catalyst of the movie series!',0]\r\n",
        "comentaries.loc[len(comentaries)]=[3,81157840,'Some movies are so good that they are talked about, often quoted and thought of almost with reverence decades after their first release. Twilight is not one of those movies. Twilight is fluff, utterly forgettable, and gives cause to wonder why anyone would want to make this movie in the first place. This movie is so nondescript and so devoid of anything that is even remotely interesting that calling it a bad movie would give it too much credit. In times past this movie would have been assigned to the B portion of a double feature and be given little if any notice. The story contains certain interesting features but at no time does it make any dramatic impact worth noting. The movie may work as escapist fare if you feel like going to the movies to take a nap, but given the high price of tickets today, that is not an advisable option. So if you feel like taking a nap, go watch this movie when it comes out on a DVD or better yet when it is shown on network television at which time you can start watching it and then go to sleep in the comfort of your own home.',0]\r\n",
        "comentaries.loc[len(comentaries)]=[4,81157840,'I am an avid reader of Twilight. I recommend it to everyone I know. I was at the midnight showing just like a lot of you, and as I sat there and watched the movie that seemed to hardly try to follow the amazing book. I left the theater wanting to have not gone. I wish I would have never seen the movie. To me they made a story that is so inspiring and full of love and turned it into a full fledged comedy. They mocked Edward and his inner turmoil. They made it \"funny\". Oh I just get so mad thry to actually follow the book since you used the name and such.inking about this movie. Wouldnt have hurt to tHope yall liked it.',0]\r\n",
        "comentaries.loc[len(comentaries)]=[5,81157840,'Dont spend your time comparing it to the book. If you just sit there comparing the book and the movie, youll take the fun out of the movie itself. If you are a book reader, reading Midnight Sun really helps understand Edwards reactions and such. This is the best movie Ive seen that has stayed the closest to the book as much as it could. I do understand why they made a few changes to please some of the moviegoers who havent read the book. It ties things in a different but acceptable way. I loved how they interpreted the book. I understand that it was a teen movie so of course there was a little cheesiness at times. But hey, the book is geared towards a teen audiences regardless of the wide age range that actually reads it. I think Summit did a good job and should make New Moon.',0]\r\n",
        "comentaries.loc[len(comentaries)]=[6,81157840,'I dont think it was intended to be so absurdly funny',0]\r\n",
        "print(comentaries)"
      ],
      "execution_count": null,
      "outputs": [
        {
          "output_type": "stream",
          "text": [
            "  userId   movieId                                               text rating\n",
            "0      1  81157840  The writers got carried away, the directors ov...      0\n",
            "1      2  81157840  Having read the first few Harry Potter books b...      0\n",
            "2      3  81157840  Some movies are so good that they are talked a...      0\n",
            "3      4  81157840  I am an avid reader of Twilight. I recommend i...      0\n",
            "4      5  81157840  Dont spend your time comparing it to the book....      0\n",
            "5      6  81157840  I dont think it was intended to be so absurdly...      0\n"
          ],
          "name": "stdout"
        }
      ]
    },
    {
      "cell_type": "code",
      "metadata": {
        "colab": {
          "base_uri": "https://localhost:8080/"
        },
        "id": "IrYgoty4EYg3",
        "outputId": "4b57fe68-9857-4831-babe-ed1a22d2a321"
      },
      "source": [
        "from sklearn.metrics import classification_report\r\n",
        "\r\n",
        "def calcularValoraciones(comentaries):\r\n",
        "  ps = PorterStemmer()\r\n",
        "  preprocessedText = []\r\n",
        "  for row in comentaries.itertuples():\r\n",
        "      text = word_tokenize(row[3]) ## indice de la columna que contiene el texto\r\n",
        "      ## Remove stop words\r\n",
        "      stops = set(stopwords.words(\"english\"))\r\n",
        "      text = [ps.stem(w) for w in text if not w in stops and w.isalnum()]\r\n",
        "      text = \" \".join(text)\r\n",
        "      preprocessedText.append(text)\r\n",
        "  preprocessedDataTest = comentaries\r\n",
        "  preprocessedDataTest['processed_text'] = preprocessedText\r\n",
        "\r\n",
        "  textsBoWTest= bagOfWordsModel.transform(preprocessedDataTest['processed_text'])\r\n",
        "\r\n",
        "  X_test = textsBoWTest #Documentos\r\n",
        "  predictions = svc.predict(X_test) #Se almacena en el array predictions las predicciones del clasificador\r\n",
        "\r\n",
        "  for i in comentaries.index:\r\n",
        "      comentaries.at[i,'rating'] = predictions[i]\r\n",
        "  comentaries = comentaries.drop(columns=['processed_text'])\r\n",
        "  return comentaries\r\n",
        "\r\n",
        "comentaries = calcularValoraciones(comentaries)\r\n",
        "comentaries.to_csv('comentaries.csv')\r\n",
        "print(comentaries)   "
      ],
      "execution_count": null,
      "outputs": [
        {
          "output_type": "stream",
          "text": [
            "  userId   movieId                                               text rating\n",
            "0      1  81157840  The writers got carried away, the directors ov...     -1\n",
            "1      2  81157840  Having read the first few Harry Potter books b...      1\n",
            "2      3  81157840  Some movies are so good that they are talked a...     -1\n",
            "3      4  81157840  I am an avid reader of Twilight. I recommend i...      1\n",
            "4      5  81157840  Dont spend your time comparing it to the book....      1\n",
            "5      6  81157840  I dont think it was intended to be so absurdly...     -1\n"
          ],
          "name": "stdout"
        }
      ]
    },
    {
      "cell_type": "markdown",
      "metadata": {
        "id": "h9-CLBGAN6ET"
      },
      "source": [
        "## Añadir Valoraciones\r\n",
        "\r\n",
        "El añadido de una valoración se podrá realizar de dos formas: tanto escribiendo un comentario como clasificando la película de forma manual entre positiva (1) o negativa (-1).\r\n",
        "\r\n",
        "Para insertar una valoración de forma manual a través de una clasificación positiva o negativa, se pedirá el id del usuario, el id de la película que desea valorar y la valoración que éste le desea dar. Una vez se tienen esos tres datos, se inserta al final del dataset **ratings** la valoración.\r\n",
        "\r\n",
        "Por otro lado, para valorar una película a través de un comentario, se pedirán el id del usuario, el id de la película que desea comentar y el comentario que desea escribir. Estos datos serán añadidos al dataset **comentaries**. Una vez añadido el comentario, el sistema estima si el comentario representa una valoración negativa o positiva y la añade al dataset **ratings**, junto con el id del usuario y el id de la película valorada."
      ]
    },
    {
      "cell_type": "code",
      "metadata": {
        "colab": {
          "base_uri": "https://localhost:8080/",
          "height": 343
        },
        "id": "YUTXIDgEOBJw",
        "outputId": "53786c8e-e8a6-47c5-9e04-a88396c0321a"
      },
      "source": [
        "#Valoracion a través de clasificación de forma manual entre positiva o negativa\r\n",
        "import pandas as pd\r\n",
        "\r\n",
        "ratings = pd.read_csv('/content/ratings.csv')\r\n",
        "ratings = ratings.drop(columns=['Unnamed: 0'])\r\n",
        "\r\n",
        "usuario = 15\r\n",
        "película = 80220311\r\n",
        "valoracion = -1\r\n",
        "\r\n",
        "ratings = ratings.append({'userId' : usuario , 'movieId' : película, 'rating' : valoracion} , ignore_index=True)\r\n",
        "ratings.tail(10)"
      ],
      "execution_count": null,
      "outputs": [
        {
          "output_type": "execute_result",
          "data": {
            "text/html": [
              "<div>\n",
              "<style scoped>\n",
              "    .dataframe tbody tr th:only-of-type {\n",
              "        vertical-align: middle;\n",
              "    }\n",
              "\n",
              "    .dataframe tbody tr th {\n",
              "        vertical-align: top;\n",
              "    }\n",
              "\n",
              "    .dataframe thead th {\n",
              "        text-align: right;\n",
              "    }\n",
              "</style>\n",
              "<table border=\"1\" class=\"dataframe\">\n",
              "  <thead>\n",
              "    <tr style=\"text-align: right;\">\n",
              "      <th></th>\n",
              "      <th>userId</th>\n",
              "      <th>movieId</th>\n",
              "      <th>rating</th>\n",
              "    </tr>\n",
              "  </thead>\n",
              "  <tbody>\n",
              "    <tr>\n",
              "      <th>99995</th>\n",
              "      <td>671</td>\n",
              "      <td>80158580</td>\n",
              "      <td>1.0</td>\n",
              "    </tr>\n",
              "    <tr>\n",
              "      <th>99996</th>\n",
              "      <td>671</td>\n",
              "      <td>81092491</td>\n",
              "      <td>1.0</td>\n",
              "    </tr>\n",
              "    <tr>\n",
              "      <th>99997</th>\n",
              "      <td>671</td>\n",
              "      <td>80168198</td>\n",
              "      <td>1.0</td>\n",
              "    </tr>\n",
              "    <tr>\n",
              "      <th>99998</th>\n",
              "      <td>671</td>\n",
              "      <td>80100260</td>\n",
              "      <td>1.0</td>\n",
              "    </tr>\n",
              "    <tr>\n",
              "      <th>99999</th>\n",
              "      <td>671</td>\n",
              "      <td>81054495</td>\n",
              "      <td>1.0</td>\n",
              "    </tr>\n",
              "    <tr>\n",
              "      <th>100000</th>\n",
              "      <td>671</td>\n",
              "      <td>81035843</td>\n",
              "      <td>1.0</td>\n",
              "    </tr>\n",
              "    <tr>\n",
              "      <th>100001</th>\n",
              "      <td>671</td>\n",
              "      <td>70089214</td>\n",
              "      <td>1.0</td>\n",
              "    </tr>\n",
              "    <tr>\n",
              "      <th>100002</th>\n",
              "      <td>671</td>\n",
              "      <td>81000511</td>\n",
              "      <td>1.0</td>\n",
              "    </tr>\n",
              "    <tr>\n",
              "      <th>100003</th>\n",
              "      <td>671</td>\n",
              "      <td>81025908</td>\n",
              "      <td>1.0</td>\n",
              "    </tr>\n",
              "    <tr>\n",
              "      <th>100004</th>\n",
              "      <td>15</td>\n",
              "      <td>80220311</td>\n",
              "      <td>-1.0</td>\n",
              "    </tr>\n",
              "  </tbody>\n",
              "</table>\n",
              "</div>"
            ],
            "text/plain": [
              "        userId   movieId  rating\n",
              "99995      671  80158580     1.0\n",
              "99996      671  81092491     1.0\n",
              "99997      671  80168198     1.0\n",
              "99998      671  80100260     1.0\n",
              "99999      671  81054495     1.0\n",
              "100000     671  81035843     1.0\n",
              "100001     671  70089214     1.0\n",
              "100002     671  81000511     1.0\n",
              "100003     671  81025908     1.0\n",
              "100004      15  80220311    -1.0"
            ]
          },
          "metadata": {
            "tags": []
          },
          "execution_count": 134
        }
      ]
    },
    {
      "cell_type": "code",
      "metadata": {
        "colab": {
          "base_uri": "https://localhost:8080/"
        },
        "id": "xYhDi1MboBeD",
        "outputId": "057ece51-a7d0-4393-fbd9-38c17242f465"
      },
      "source": [
        "#Valoracion a través de comentario\r\n",
        "import pandas as pd\r\n",
        "\r\n",
        "ratings = pd.read_csv('/content/ratings.csv')\r\n",
        "ratings = ratings.drop(columns=['Unnamed: 0'])\r\n",
        "\r\n",
        "comentaries = pd.read_csv('/content/comentaries.csv')\r\n",
        "comentaries = comentaries.drop(columns=['Unnamed: 0'])\r\n",
        "\r\n",
        "usuario = 16\r\n",
        "película = 80220311\r\n",
        "comentarie = 'I absolutely love this movie, partly because the acting is really good, but also for the CGI effects and the good storyline. I watched the extended version and realized that it isnt boring like some people think because some people I know think that FOTR is quite a lengthy movie because of all the talking, but in my opinion, if theres not talking, theres no story! If they just jumped to the fighting scenes without any of the introduction, then you wont know where the movie started from. I love the scenes where they get to fight, whether Orcs or Nazgul, the fighting scenes are still the climax of the movie.'\r\n",
        "\r\n",
        "comentaries = comentaries.append({'userId' : usuario , 'movieId' : película, 'text' : comentarie, 'rating' : 0} , ignore_index=True)\r\n",
        "comentaries = calcularValoraciones(comentaries)\r\n",
        "\r\n",
        "ratings = ratings.append({'userId' : usuario , 'movieId' : película, 'rating' : comentaries.iloc[len(comentaries)-1]['rating']} , ignore_index=True)\r\n",
        "\r\n",
        "print(comentaries)\r\n",
        "print(\" \")\r\n",
        "print(ratings)"
      ],
      "execution_count": null,
      "outputs": [
        {
          "output_type": "stream",
          "text": [
            "   userId   movieId                                               text  rating\n",
            "0       1  81157840  The writers got carried away, the directors ov...      -1\n",
            "1       2  81157840  Having read the first few Harry Potter books b...       1\n",
            "2       3  81157840  Some movies are so good that they are talked a...      -1\n",
            "3       4  81157840  I am an avid reader of Twilight. I recommend i...       1\n",
            "4       5  81157840  Dont spend your time comparing it to the book....       1\n",
            "5       6  81157840  I dont think it was intended to be so absurdly...      -1\n",
            "6      16  80220311  I absolutely love this movie, partly because t...       1\n",
            " \n",
            "        userId   movieId  rating\n",
            "0            1  80135563     1.0\n",
            "1            1  80213712     1.0\n",
            "2            1  80032636     1.0\n",
            "3            1  81217738    -1.0\n",
            "4            1  81214223     1.0\n",
            "...        ...       ...     ...\n",
            "100000     671  81035843     1.0\n",
            "100001     671  70089214     1.0\n",
            "100002     671  81000511     1.0\n",
            "100003     671  81025908     1.0\n",
            "100004      16  80220311     1.0\n",
            "\n",
            "[100005 rows x 3 columns]\n"
          ],
          "name": "stdout"
        }
      ]
    },
    {
      "cell_type": "markdown",
      "metadata": {
        "id": "jXrPIrIBv67c"
      },
      "source": [
        "#Mejoras y nuevas funcionalidades"
      ]
    },
    {
      "cell_type": "markdown",
      "metadata": {
        "id": "0RaEEWsjYvzp"
      },
      "source": [
        "## Filtrado Colaborativo\r\n",
        "Decidimos realizar un filtrado colaborativo para mejorar las recomendaciones de usuarios que ya hayan usado la aplicación. Para el cálculo de las recomendaciones, usamos el dataset **ratings**, el cual contiene valoraciones de películas que han hecho los usuarios.\r\n",
        "\r\n",
        "Se utiliza la librería surprise para realizar el filtrado colaborativo.\r\n",
        "\r\n",
        "El filtrado colaborativo lo que nos permite es recomendar películas que les hayan gustado a otros usuarios con gustos similares al nuestro. Para ejemplificar, si un usuario ha visto tres películas y las ha valorado positivamente y otro usuario distinto ha visto cuatro películas que también valoró positivamente y de las cuales tres eran las que el primer usuario ya había visto, entonces es probable que la cuarta película que el primer usuario aún no vió le vaya a gustar. \r\n",
        "Esta forma de recomendar tiene un problema para usuarios de los cuales tenemos pocas valoraciones, en estos casos se utiliza el Sistema de recomendación textual.\r\n",
        "\r\n",
        "Ha de tenerse en cuenta que para que todo el código que viene a continuación funcione, deben haberse ejecutado los bloques de carga de los datasets del apartado **\"Carga y procesado de los dataset\"** en la sección Sistema de valoración manual y automática. Se necesita la ejecución de dicho apartado debido al uso de dichos datasets en este apartado."
      ]
    },
    {
      "cell_type": "code",
      "metadata": {
        "id": "i8JWToS1aEjw",
        "colab": {
          "base_uri": "https://localhost:8080/"
        },
        "outputId": "8f1f5cc6-288c-4729-dccb-23d4324e3ae8"
      },
      "source": [
        "!pip install surprise"
      ],
      "execution_count": null,
      "outputs": [
        {
          "output_type": "stream",
          "text": [
            "Requirement already satisfied: surprise in /usr/local/lib/python3.6/dist-packages (0.1)\n",
            "Requirement already satisfied: scikit-surprise in /usr/local/lib/python3.6/dist-packages (from surprise) (1.1.1)\n",
            "Requirement already satisfied: six>=1.10.0 in /usr/local/lib/python3.6/dist-packages (from scikit-surprise->surprise) (1.15.0)\n",
            "Requirement already satisfied: joblib>=0.11 in /usr/local/lib/python3.6/dist-packages (from scikit-surprise->surprise) (0.17.0)\n",
            "Requirement already satisfied: scipy>=1.0.0 in /usr/local/lib/python3.6/dist-packages (from scikit-surprise->surprise) (1.4.1)\n",
            "Requirement already satisfied: numpy>=1.11.2 in /usr/local/lib/python3.6/dist-packages (from scikit-surprise->surprise) (1.18.5)\n"
          ],
          "name": "stdout"
        }
      ]
    },
    {
      "cell_type": "markdown",
      "metadata": {
        "id": "X8iQI3uSnsoz"
      },
      "source": [
        "Se calcula la matriz de estimaciones para el filtrado colaborativo haciendo uso del algoritmo SVD. Posteriormente, se calculan las 10 películas que probablemente le  gusten más a cada uno de los usuarios."
      ]
    },
    {
      "cell_type": "code",
      "metadata": {
        "id": "mQfj5C2Tbpur"
      },
      "source": [
        "from collections import defaultdict\n",
        "\n",
        "from surprise import SVD, Reader\n",
        "from surprise import Dataset\n",
        "import pandas as pd\n",
        "\n",
        "\n",
        "originalData = pd.read_csv('/content/dataMovies.csv')\n",
        "originalData = originalData.drop(columns=['Unnamed: 0'])\n",
        "\n",
        "\n",
        "def get_top_n(predictions, n=10):\n",
        "    \"\"\"Devuelve las 10 primeras recomendaciones para cada uno de los usuarios.\n",
        "    \"\"\"\n",
        "\n",
        "    # Primer map las predicciones para cada usuario.\n",
        "    top_n = defaultdict(list)\n",
        "    for uid, iid, true_r, est, _ in predictions:\n",
        "        top_n[uid].append((iid, est))\n",
        "\n",
        "    # Ordenar las predicciones y escoger únicamente las k-mejores.\n",
        "    for uid, user_ratings in top_n.items():\n",
        "        user_ratings.sort(key=lambda x: x[1], reverse=True)\n",
        "        top_n[uid] = user_ratings[:n]\n",
        "\n",
        "    return top_n\n",
        "\n",
        "\n",
        "# Entrenamiento del algorimos SVD.\n",
        "reader = Reader(rating_scale=(-1, 1))\n",
        "data = Dataset.load_from_df(ratings[['userId','movieId','rating']], reader)\n",
        "trainset = data.build_full_trainset()\n",
        "algo = SVD()\n",
        "algo.fit(trainset)\n",
        "\n",
        "# Predicciones para todos los pares (usuario, película) que no pertenecen al dataset de entrenamiento.\n",
        "testset = trainset.build_anti_testset()\n",
        "predictions = algo.test(testset)\n",
        "\n",
        "top_n = get_top_n(predictions, n=10)\n",
        "\n"
      ],
      "execution_count": null,
      "outputs": []
    },
    {
      "cell_type": "markdown",
      "metadata": {
        "id": "bUm_tnq8tvps"
      },
      "source": [
        "Una vez finalizado el proceso mostramos el que sería un posible resultado para los usuarios, en nuestro caso usamos las recomendaciones para el usuario con id = 1."
      ]
    },
    {
      "cell_type": "code",
      "metadata": {
        "colab": {
          "base_uri": "https://localhost:8080/"
        },
        "id": "I_LP-SVYK-hO",
        "outputId": "c1724672-7ce6-48a6-a48e-ac1e93dfcdd3"
      },
      "source": [
        "# Imprimir por pantalla las 10 mejores estimaciones para el usuario con id 1.\r\n",
        "for uid, user_ratings in top_n.items():\r\n",
        "  if uid <=1:\r\n",
        "    print(\"Recomendaciones para el usuario \", uid, \":\")\r\n",
        "    print(\" \")\r\n",
        "    top_movies = ([iid for (iid, _) in user_ratings])\r\n",
        "    for x in top_movies:\r\n",
        "      indexOfMovie = originalData[originalData['show_id']==x].index.values[0]\r\n",
        "      print(x, \"  \", originalData['title'].iloc[indexOfMovie])"
      ],
      "execution_count": null,
      "outputs": [
        {
          "output_type": "stream",
          "text": [
            "Recomendaciones para el usuario  1 :\n",
            " \n",
            "70020048    Balto 3: Wings of Change\n",
            "80100772    13 Cameras\n",
            "70123119    Wake Up Sid\n",
            "80124313    Sairat\n",
            "80158084    The Case for Christ\n",
            "80210691    End Game\n",
            "80005501    Iron Man & Captain America: Heroes United\n",
            "81024100    American Son\n",
            "80190946    Hans Teeuwen: Real Rancour\n",
            "70229046    Race 2\n"
          ],
          "name": "stdout"
        }
      ]
    },
    {
      "cell_type": "markdown",
      "metadata": {
        "id": "5F99sGU4wtc-"
      },
      "source": [
        "#Recursos y bibliografía\r\n",
        "\r\n",
        "Surprise; Documentos, FAQ (Frecuently Asked Questions); Fecha de recuperación: 28 de enero de 2021; Disponible en: https://surprise.readthedocs.io/en/stable/FAQ.html\r\n",
        "\r\n",
        "Usuario Rounak Banik en Kaggle; Movie Recommender Systems; Fecha de publicación: 2018; Fecha de recuperación: 28 de enero de 2021; Disponible en: https://www.kaggle.com/rounakbanik/movie-recommender-systems\r\n",
        "\r\n",
        "Foro público Stack Overflow; Python Pandas: Get index of rows which column matches certain value; Fecha de publicación: febrero de 2014; Fecha de recuperación: 28 de enero de 2021; Disponible en: https://stackoverflow.com/questions/21800169/python-pandas-get-index-of-rows-which-column-matches-certain-value\r\n",
        "\r\n",
        "Usuario adrpseara en GitHub; Tutorial Recomendador basado en contenido; Fecha de recuperación: 28 de enero de 2021; Disponible en: https://github.com/adrseara/abp_notebooks/blob/master/Tutorial_Recomendador_basado_en_contenido.ipynb\r\n",
        "\r\n",
        "Usuario adrpseara en GitHub; Tutorial Análisis de sentimientos; Fecha de recuperación: 28 de enero de 2021; Disponible en: https://github.com/adrseara/abp_notebooks/blob/master/Tutorial_an%C3%A1lisis_de_sentimientos.ipynb"
      ]
    }
  ]
}